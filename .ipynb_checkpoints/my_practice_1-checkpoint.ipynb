{
 "cells": [
  {
   "cell_type": "code",
   "execution_count": 5,
   "id": "dd2d16a0-2d13-4d88-8be0-443f925653d0",
   "metadata": {},
   "outputs": [],
   "source": [
    "name_person = 'Daleep Singh Bais'"
   ]
  },
  {
   "cell_type": "code",
   "execution_count": 3,
   "id": "c5cda506-5387-415f-8186-99f2bf2612bc",
   "metadata": {},
   "outputs": [],
   "source": [
    "age_person = 48"
   ]
  },
  {
   "cell_type": "code",
   "execution_count": 6,
   "id": "706764d9-faaa-411c-88c7-e7b686c93814",
   "metadata": {},
   "outputs": [
    {
     "data": {
      "text/plain": [
       "'My name is Daleep Singh Bais and I am 48 years old'"
      ]
     },
     "execution_count": 6,
     "metadata": {},
     "output_type": "execute_result"
    }
   ],
   "source": [
    "'My name is {} and I am {} years old'.format(name_person,age_person)"
   ]
  },
  {
   "cell_type": "code",
   "execution_count": 7,
   "id": "67b09e32-569f-481a-ba9b-65dc643fe922",
   "metadata": {},
   "outputs": [
    {
     "name": "stdout",
     "output_type": "stream",
     "text": [
      "My name is Daleep Singh Bais and I am 48 years old\n"
     ]
    }
   ],
   "source": [
    "print('My name is {} and I am {} years old'.format(name_person,age_person))   ##print the output using print function"
   ]
  },
  {
   "cell_type": "markdown",
   "id": "b2331cc3-9d06-4301-a44b-3c752e809c33",
   "metadata": {},
   "source": [
    "#When we don't want to worry about the order of variables"
   ]
  },
  {
   "cell_type": "code",
   "execution_count": 10,
   "id": "667359e9-3c41-494e-a6ba-f117a616b02b",
   "metadata": {},
   "outputs": [
    {
     "data": {
      "text/plain": [
       "'My name is Daleep Singh Bais and I am 48 years old'"
      ]
     },
     "execution_count": 10,
     "metadata": {},
     "output_type": "execute_result"
    }
   ],
   "source": [
    "'My name is {var_one} and I am {var_two} years old'.format(var_two=age_person,var_one=name_person)"
   ]
  },
  {
   "cell_type": "markdown",
   "id": "47410fdd-3440-4aa9-8964-0cc8c42a68d3",
   "metadata": {},
   "source": [
    "## STRINGS "
   ]
  },
  {
   "cell_type": "code",
   "execution_count": null,
   "id": "09b79b54-035a-4e22-a0c9-e63867d311ce",
   "metadata": {},
   "outputs": [],
   "source": []
  },
  {
   "cell_type": "code",
   "execution_count": 11,
   "id": "2144eb5c-9e2f-4f17-95ac-26d3a386b0fe",
   "metadata": {},
   "outputs": [],
   "source": [
    "city_name = 'Indore'"
   ]
  },
  {
   "cell_type": "code",
   "execution_count": 15,
   "id": "3de4c627-e509-4bda-bb0d-d636700572f1",
   "metadata": {},
   "outputs": [
    {
     "data": {
      "text/plain": [
       "'n'"
      ]
     },
     "execution_count": 15,
     "metadata": {},
     "output_type": "execute_result"
    }
   ],
   "source": [
    "city_name[1]"
   ]
  },
  {
   "cell_type": "code",
   "execution_count": 16,
   "id": "8f17b29a-3bf9-40ee-b9b0-adac5252ae80",
   "metadata": {},
   "outputs": [
    {
     "data": {
      "text/plain": [
       "'o'"
      ]
     },
     "execution_count": 16,
     "metadata": {},
     "output_type": "execute_result"
    }
   ],
   "source": [
    "city_name[3]"
   ]
  },
  {
   "cell_type": "code",
   "execution_count": 17,
   "id": "868f2fda-0f04-47c0-8d63-03ff5143f78d",
   "metadata": {},
   "outputs": [],
   "source": [
    "long_string= 'Life is full of surprises'"
   ]
  },
  {
   "cell_type": "code",
   "execution_count": 18,
   "id": "fb02b504-8537-40f8-a7e3-b04c127c2451",
   "metadata": {},
   "outputs": [
    {
     "data": {
      "text/plain": [
       "'Life is full of surprises'"
      ]
     },
     "execution_count": 18,
     "metadata": {},
     "output_type": "execute_result"
    }
   ],
   "source": [
    "long_string[0:]"
   ]
  },
  {
   "cell_type": "code",
   "execution_count": 19,
   "id": "60e29b89-ed51-47dd-ac81-bacdacacbe72",
   "metadata": {},
   "outputs": [
    {
     "data": {
      "text/plain": [
       "'Life '"
      ]
     },
     "execution_count": 19,
     "metadata": {},
     "output_type": "execute_result"
    }
   ],
   "source": [
    "long_string[:5]  ## everything till index 5 -- not included"
   ]
  },
  {
   "cell_type": "code",
   "execution_count": 20,
   "id": "889965f9-5feb-42ee-850b-7e51d02a9397",
   "metadata": {},
   "outputs": [
    {
     "data": {
      "text/plain": [
       "'ife is'"
      ]
     },
     "execution_count": 20,
     "metadata": {},
     "output_type": "execute_result"
    }
   ],
   "source": [
    "long_string[1:7]"
   ]
  },
  {
   "cell_type": "markdown",
   "id": "d4a4d990-7fdf-46f7-8dae-156ba2369397",
   "metadata": {},
   "source": [
    "## LIST - sequence of elements in a square bracket separated by a comma."
   ]
  },
  {
   "cell_type": "code",
   "execution_count": null,
   "id": "8c82eabb-6c14-414e-9398-7cb2d4366094",
   "metadata": {},
   "outputs": [],
   "source": []
  },
  {
   "cell_type": "code",
   "execution_count": 23,
   "id": "71cfea65-b5d2-4035-b9d9-fd8779d26e15",
   "metadata": {},
   "outputs": [],
   "source": [
    "city_names = ['Delhi','Aurangabad','Hyderabad']"
   ]
  },
  {
   "cell_type": "code",
   "execution_count": 24,
   "id": "0e04c459-a7cd-40b0-a90a-5943ec295ace",
   "metadata": {},
   "outputs": [
    {
     "data": {
      "text/plain": [
       "['Delhi', 'Aurangabad', 'Hyderabad']"
      ]
     },
     "execution_count": 24,
     "metadata": {},
     "output_type": "execute_result"
    }
   ],
   "source": [
    "city_names"
   ]
  },
  {
   "cell_type": "code",
   "execution_count": 25,
   "id": "4573b7a0-baad-46e9-a7bc-db38644eda91",
   "metadata": {},
   "outputs": [],
   "source": [
    "## Add a new element to the list - use append method"
   ]
  },
  {
   "cell_type": "code",
   "execution_count": 26,
   "id": "21d5b861-9051-428c-ab1a-b4b9c202a587",
   "metadata": {},
   "outputs": [],
   "source": [
    "city_names.append('jaipur')"
   ]
  },
  {
   "cell_type": "code",
   "execution_count": 27,
   "id": "08409b8b-75e8-4206-bda4-f724eeca11b2",
   "metadata": {},
   "outputs": [
    {
     "data": {
      "text/plain": [
       "['Delhi', 'Aurangabad', 'Hyderabad', 'jaipur']"
      ]
     },
     "execution_count": 27,
     "metadata": {},
     "output_type": "execute_result"
    }
   ],
   "source": [
    "city_names"
   ]
  },
  {
   "cell_type": "code",
   "execution_count": 29,
   "id": "a8b24895-2d79-4155-a187-33dc6479dcb2",
   "metadata": {},
   "outputs": [
    {
     "data": {
      "text/plain": [
       "['Delhi', 'Aurangabad']"
      ]
     },
     "execution_count": 29,
     "metadata": {},
     "output_type": "execute_result"
    }
   ],
   "source": [
    "city_names[0:2]"
   ]
  },
  {
   "cell_type": "code",
   "execution_count": 30,
   "id": "2aeda17a-e659-4f9d-8664-51e1077137c4",
   "metadata": {},
   "outputs": [],
   "source": [
    "## Replace element with new values"
   ]
  },
  {
   "cell_type": "code",
   "execution_count": 31,
   "id": "d7f6ac88-9733-4a69-868d-f24c7b0e29a9",
   "metadata": {},
   "outputs": [],
   "source": [
    "city_names[1]='Sambhaji Nagar'"
   ]
  },
  {
   "cell_type": "code",
   "execution_count": 32,
   "id": "72430b2b-2542-4115-b0b0-757fca581553",
   "metadata": {},
   "outputs": [
    {
     "data": {
      "text/plain": [
       "['Delhi', 'Sambhaji Nagar', 'Hyderabad', 'jaipur']"
      ]
     },
     "execution_count": 32,
     "metadata": {},
     "output_type": "execute_result"
    }
   ],
   "source": [
    "city_names"
   ]
  },
  {
   "cell_type": "code",
   "execution_count": 33,
   "id": "ed2436b8-c687-4d07-bbca-9fceb3258643",
   "metadata": {},
   "outputs": [],
   "source": [
    "##List can be nested lists also"
   ]
  },
  {
   "cell_type": "code",
   "execution_count": 35,
   "id": "461fefd9-1640-48a1-b7b9-029c6bba68f1",
   "metadata": {},
   "outputs": [],
   "source": [
    "list = [1,2,[3,4]]"
   ]
  },
  {
   "cell_type": "code",
   "execution_count": 36,
   "id": "64c82dd2-a3bd-40b1-a0d4-58f362842cb4",
   "metadata": {},
   "outputs": [
    {
     "data": {
      "text/plain": [
       "[1, 2, [3, 4]]"
      ]
     },
     "execution_count": 36,
     "metadata": {},
     "output_type": "execute_result"
    }
   ],
   "source": [
    "list"
   ]
  },
  {
   "cell_type": "code",
   "execution_count": 37,
   "id": "d0518268-2e49-4435-bc6a-24bfb6afa852",
   "metadata": {},
   "outputs": [],
   "source": [
    "## to extract digit 4"
   ]
  },
  {
   "cell_type": "code",
   "execution_count": 39,
   "id": "cfc67fdf-09b6-46fe-a137-b6afc4f9c573",
   "metadata": {},
   "outputs": [
    {
     "data": {
      "text/plain": [
       "[3, 4]"
      ]
     },
     "execution_count": 39,
     "metadata": {},
     "output_type": "execute_result"
    }
   ],
   "source": [
    "list[2] ## to get to second list which holds digit 4"
   ]
  },
  {
   "cell_type": "code",
   "execution_count": 41,
   "id": "58181d2f-21b4-4f11-bb9d-0409d07601cd",
   "metadata": {},
   "outputs": [
    {
     "data": {
      "text/plain": [
       "4"
      ]
     },
     "execution_count": 41,
     "metadata": {},
     "output_type": "execute_result"
    }
   ],
   "source": [
    "list[2][1] ## as 4 is at the index 1 in second list"
   ]
  },
  {
   "cell_type": "markdown",
   "id": "a3a8e597-b63b-4da6-afc9-d51f02dadfb0",
   "metadata": {},
   "source": [
    "## Dictionary -- in curly brackets, a key and a corresponding value -- d = {'key': 'value', 'key2': 'value2'}"
   ]
  },
  {
   "cell_type": "code",
   "execution_count": null,
   "id": "2e79259a-f3bc-4da4-a5da-8404648fb756",
   "metadata": {},
   "outputs": [],
   "source": []
  },
  {
   "cell_type": "code",
   "execution_count": 2,
   "id": "0d2b42a8-4c9d-451e-a0d4-ae16befc9d4c",
   "metadata": {},
   "outputs": [],
   "source": [
    "places = {'city1': 'Delhi', 'city2': 'Jaipur', 'city3': 'Sambhaji Nagar', 'city4': {'option1':'Vizag', 'option2': 'hyderabad'}}"
   ]
  },
  {
   "cell_type": "code",
   "execution_count": 3,
   "id": "d178f95f-59c2-4846-81e1-2803dfe2419f",
   "metadata": {},
   "outputs": [
    {
     "data": {
      "text/plain": [
       "{'city1': 'Delhi',\n",
       " 'city2': 'Jaipur',\n",
       " 'city3': 'Sambhaji Nagar',\n",
       " 'city4': {'option1': 'Vizag', 'option2': 'hyderabad'}}"
      ]
     },
     "execution_count": 3,
     "metadata": {},
     "output_type": "execute_result"
    }
   ],
   "source": [
    "places"
   ]
  },
  {
   "cell_type": "code",
   "execution_count": 4,
   "id": "b9f9b7de-8329-4199-9a01-1ec7a5f304e5",
   "metadata": {},
   "outputs": [],
   "source": [
    "## Dictionaries don't follow same notation as List and strings. You cannnot find element using index, you have to use Key"
   ]
  },
  {
   "cell_type": "code",
   "execution_count": 5,
   "id": "d9cbb949-c768-471a-983f-f983eb8bff5a",
   "metadata": {},
   "outputs": [
    {
     "data": {
      "text/plain": [
       "'Jaipur'"
      ]
     },
     "execution_count": 5,
     "metadata": {},
     "output_type": "execute_result"
    }
   ],
   "source": [
    "places['city2']"
   ]
  },
  {
   "cell_type": "code",
   "execution_count": 6,
   "id": "f83b105e-6ddd-4a02-a05c-41cd8710b246",
   "metadata": {},
   "outputs": [],
   "source": [
    "## now to find hyderabad, traverse the dictionary"
   ]
  },
  {
   "cell_type": "code",
   "execution_count": 9,
   "id": "6a0ac871-dd88-4a3f-8748-0af34a395ead",
   "metadata": {},
   "outputs": [
    {
     "data": {
      "text/plain": [
       "{'option1': 'Vizag', 'option2': 'hyderabad'}"
      ]
     },
     "execution_count": 9,
     "metadata": {},
     "output_type": "execute_result"
    }
   ],
   "source": [
    "places['city4']"
   ]
  },
  {
   "cell_type": "code",
   "execution_count": 11,
   "id": "ba7c0546-25a3-4ffb-9296-1e9816d9060c",
   "metadata": {},
   "outputs": [
    {
     "data": {
      "text/plain": [
       "'hyderabad'"
      ]
     },
     "execution_count": 11,
     "metadata": {},
     "output_type": "execute_result"
    }
   ],
   "source": [
    "places['city4']['option2']"
   ]
  },
  {
   "cell_type": "code",
   "execution_count": 12,
   "id": "27d4ef77-9333-4895-af77-383f17af909f",
   "metadata": {},
   "outputs": [],
   "source": [
    "## We can have list inside a dictionary in the same manner"
   ]
  },
  {
   "cell_type": "code",
   "execution_count": 14,
   "id": "2fb8a853-d52b-472c-805f-89f728b49259",
   "metadata": {},
   "outputs": [],
   "source": [
    "places2 = {'city1': 'Delhi', 'city2': 'Jaipur', 'city3': 'Sambhaji Nagar', 'city4': ['Vizag','hyderabad']}"
   ]
  },
  {
   "cell_type": "code",
   "execution_count": 15,
   "id": "063d64e4-f366-41d3-ad66-ce641f162034",
   "metadata": {},
   "outputs": [
    {
     "data": {
      "text/plain": [
       "{'city1': 'Delhi',\n",
       " 'city2': 'Jaipur',\n",
       " 'city3': 'Sambhaji Nagar',\n",
       " 'city4': ['Vizag', 'hyderabad']}"
      ]
     },
     "execution_count": 15,
     "metadata": {},
     "output_type": "execute_result"
    }
   ],
   "source": [
    "places2   ## notice city4 in the output, it is a list"
   ]
  },
  {
   "cell_type": "code",
   "execution_count": 16,
   "id": "d64de0d4-8afd-4d9d-aa22-fb48f9c261cc",
   "metadata": {},
   "outputs": [],
   "source": [
    "### to find hyderabad now"
   ]
  },
  {
   "cell_type": "code",
   "execution_count": 17,
   "id": "4c3ef011-6ab9-46a9-9b17-9a7721bf8110",
   "metadata": {},
   "outputs": [
    {
     "data": {
      "text/plain": [
       "['Vizag', 'hyderabad']"
      ]
     },
     "execution_count": 17,
     "metadata": {},
     "output_type": "execute_result"
    }
   ],
   "source": [
    "places2['city4']"
   ]
  },
  {
   "cell_type": "code",
   "execution_count": 18,
   "id": "0792f4b4-b8ee-4059-9817-683a2aecd002",
   "metadata": {},
   "outputs": [
    {
     "data": {
      "text/plain": [
       "'hyderabad'"
      ]
     },
     "execution_count": 18,
     "metadata": {},
     "output_type": "execute_result"
    }
   ],
   "source": [
    "places2['city4'][1]   ### since we now have a list, we can use the index number 1 which is Hyderabad"
   ]
  },
  {
   "cell_type": "code",
   "execution_count": 19,
   "id": "58109d55-6266-4c0f-8230-72b94c67d90b",
   "metadata": {},
   "outputs": [],
   "source": [
    "### We could also do it in 2 steps, pass the list to a variable and then get the reqd index from the variable"
   ]
  },
  {
   "cell_type": "code",
   "execution_count": 22,
   "id": "405bb3c2-3dd9-4dc0-ad26-b4d1f92b2e84",
   "metadata": {},
   "outputs": [],
   "source": [
    "temp_places = places2['city4']"
   ]
  },
  {
   "cell_type": "code",
   "execution_count": 23,
   "id": "7bcff138-1a81-4577-96c9-99757fd3156c",
   "metadata": {},
   "outputs": [
    {
     "data": {
      "text/plain": [
       "['Vizag', 'hyderabad']"
      ]
     },
     "execution_count": 23,
     "metadata": {},
     "output_type": "execute_result"
    }
   ],
   "source": [
    "temp_places"
   ]
  },
  {
   "cell_type": "code",
   "execution_count": 24,
   "id": "d380ad8c-3a06-4e95-a4c0-315c3683b5ff",
   "metadata": {},
   "outputs": [
    {
     "data": {
      "text/plain": [
       "'hyderabad'"
      ]
     },
     "execution_count": 24,
     "metadata": {},
     "output_type": "execute_result"
    }
   ],
   "source": [
    "temp_places[1]"
   ]
  },
  {
   "cell_type": "markdown",
   "id": "bd8ed033-b326-422f-a38e-dd9e8e8eb4cf",
   "metadata": {},
   "source": [
    "##Booleans -- True or False"
   ]
  },
  {
   "cell_type": "markdown",
   "id": "18e7c40e-63cc-466a-b568-733941de3bfd",
   "metadata": {},
   "source": [
    "## Tuple - They are similar to list except they are immutable. List are in Square brackets, whereas, Tuples are in parenthesis () "
   ]
  },
  {
   "cell_type": "code",
   "execution_count": 30,
   "id": "a48d9da1-446b-4de3-b00b-43aa962d29e3",
   "metadata": {},
   "outputs": [],
   "source": [
    "list1 = [1,2,3]"
   ]
  },
  {
   "cell_type": "code",
   "execution_count": 31,
   "id": "f29ce32f-8566-4479-a88c-56757738efad",
   "metadata": {},
   "outputs": [
    {
     "data": {
      "text/plain": [
       "[1, 2, 3]"
      ]
     },
     "execution_count": 31,
     "metadata": {},
     "output_type": "execute_result"
    }
   ],
   "source": [
    "list1"
   ]
  },
  {
   "cell_type": "code",
   "execution_count": 28,
   "id": "a2253925-0e9f-4518-8ff3-d715b899d277",
   "metadata": {},
   "outputs": [],
   "source": [
    "tuple1 = (1,2,3)"
   ]
  },
  {
   "cell_type": "code",
   "execution_count": 32,
   "id": "89244b80-e06c-4a60-9620-5a1c73c13f65",
   "metadata": {},
   "outputs": [
    {
     "data": {
      "text/plain": [
       "(1, 2, 3)"
      ]
     },
     "execution_count": 32,
     "metadata": {},
     "output_type": "execute_result"
    }
   ],
   "source": [
    "tuple1"
   ]
  },
  {
   "cell_type": "code",
   "execution_count": 33,
   "id": "362fa618-e7f3-426c-803a-9f76af61e7cd",
   "metadata": {},
   "outputs": [],
   "source": [
    "### we can modify any element  in list, which is not possible with tuple"
   ]
  },
  {
   "cell_type": "code",
   "execution_count": 34,
   "id": "3c1e1470-2f73-4d9e-a349-bb3d34d858f6",
   "metadata": {},
   "outputs": [
    {
     "data": {
      "text/plain": [
       "3"
      ]
     },
     "execution_count": 34,
     "metadata": {},
     "output_type": "execute_result"
    }
   ],
   "source": [
    "list1[2]"
   ]
  },
  {
   "cell_type": "code",
   "execution_count": 35,
   "id": "162b370b-262d-441e-8d63-365dbd994995",
   "metadata": {},
   "outputs": [],
   "source": [
    "list1[2] = 8"
   ]
  },
  {
   "cell_type": "code",
   "execution_count": 36,
   "id": "c6ee03c0-e976-4797-889e-fcd4c9b7a1b4",
   "metadata": {},
   "outputs": [
    {
     "data": {
      "text/plain": [
       "[1, 2, 8]"
      ]
     },
     "execution_count": 36,
     "metadata": {},
     "output_type": "execute_result"
    }
   ],
   "source": [
    "list1  ## now you can see 3rd element on the list has changed to 8 from 3."
   ]
  },
  {
   "cell_type": "code",
   "execution_count": 37,
   "id": "f1b126b0-bc78-4465-b9f0-eea0dc348d17",
   "metadata": {},
   "outputs": [
    {
     "data": {
      "text/plain": [
       "3"
      ]
     },
     "execution_count": 37,
     "metadata": {},
     "output_type": "execute_result"
    }
   ],
   "source": [
    "tuple1[2]"
   ]
  },
  {
   "cell_type": "code",
   "execution_count": 40,
   "id": "b878f2c9-aba1-4041-908c-c3436d11d41d",
   "metadata": {},
   "outputs": [
    {
     "ename": "TypeError",
     "evalue": "'tuple' object does not support item assignment",
     "output_type": "error",
     "traceback": [
      "\u001b[31m---------------------------------------------------------------------------\u001b[39m",
      "\u001b[31mTypeError\u001b[39m                                 Traceback (most recent call last)",
      "\u001b[36mCell\u001b[39m\u001b[36m \u001b[39m\u001b[32mIn[40]\u001b[39m\u001b[32m, line 1\u001b[39m\n\u001b[32m----> \u001b[39m\u001b[32m1\u001b[39m \u001b[43mtuple1\u001b[49m\u001b[43m[\u001b[49m\u001b[32;43m2\u001b[39;49m\u001b[43m]\u001b[49m = \u001b[32m8\u001b[39m \u001b[38;5;66;03m## this command result in error <'tuple' object does not support item assignment>\u001b[39;00m\n",
      "\u001b[31mTypeError\u001b[39m: 'tuple' object does not support item assignment"
     ]
    }
   ],
   "source": [
    "tuple1[2] = 8 ## this command result in error <'tuple' object does not support item assignment>"
   ]
  },
  {
   "cell_type": "markdown",
   "id": "62d726dc-317a-44ec-87e8-dfe32d1d9442",
   "metadata": {},
   "source": [
    "## Set - same as disctionary with curly brackets, no colons, just elements. The major attribute is that it is defined by unique elements"
   ]
  },
  {
   "cell_type": "code",
   "execution_count": 42,
   "id": "d5735b74-258b-4126-a226-253136351d19",
   "metadata": {},
   "outputs": [
    {
     "data": {
      "text/plain": [
       "{1, 2, 3}"
      ]
     },
     "execution_count": 42,
     "metadata": {},
     "output_type": "execute_result"
    }
   ],
   "source": [
    "{1,2,3}"
   ]
  },
  {
   "cell_type": "code",
   "execution_count": 43,
   "id": "13ae98bd-2368-4558-9148-87d95efe007d",
   "metadata": {},
   "outputs": [
    {
     "data": {
      "text/plain": [
       "{1, 2, 3, 4, 5, 6, 9}"
      ]
     },
     "execution_count": 43,
     "metadata": {},
     "output_type": "execute_result"
    }
   ],
   "source": [
    "{1,2,3,4,1,2,3,5,6,2,3,1,4,9}  ## you can see it shows only the unique elements"
   ]
  },
  {
   "cell_type": "code",
   "execution_count": 44,
   "id": "401c60f1-1878-426f-846b-50b6d1088b5e",
   "metadata": {},
   "outputs": [
    {
     "data": {
      "text/plain": [
       "{1, 2, 3, 4, 6, 7, 9}"
      ]
     },
     "execution_count": 44,
     "metadata": {},
     "output_type": "execute_result"
    }
   ],
   "source": [
    "set([1,2,4,7,6,3,2,1,4,3,9])"
   ]
  },
  {
   "cell_type": "code",
   "execution_count": 45,
   "id": "56377769-2412-4cd5-9a67-678ffec465c3",
   "metadata": {},
   "outputs": [],
   "source": [
    "s = set([1,2,4,7,6,3,2,1,4,3,9])"
   ]
  },
  {
   "cell_type": "code",
   "execution_count": 46,
   "id": "1885114f-7152-4472-953d-81d04366cc65",
   "metadata": {},
   "outputs": [
    {
     "data": {
      "text/plain": [
       "{1, 2, 3, 4, 6, 7, 9}"
      ]
     },
     "execution_count": 46,
     "metadata": {},
     "output_type": "execute_result"
    }
   ],
   "source": [
    "s"
   ]
  },
  {
   "cell_type": "code",
   "execution_count": 47,
   "id": "df5a9327-ef14-4157-9be9-cee3d864908a",
   "metadata": {},
   "outputs": [],
   "source": [
    "s.add(8)"
   ]
  },
  {
   "cell_type": "code",
   "execution_count": 49,
   "id": "a348816e-99a0-465c-901b-b5f1d75ec369",
   "metadata": {},
   "outputs": [
    {
     "data": {
      "text/plain": [
       "{1, 2, 3, 4, 6, 7, 8, 9}"
      ]
     },
     "execution_count": 49,
     "metadata": {},
     "output_type": "execute_result"
    }
   ],
   "source": [
    "s ## now you can see element 8 added to the set using add method"
   ]
  },
  {
   "cell_type": "code",
   "execution_count": null,
   "id": "a7f3e023-9f37-45a5-b3e4-c01c8b98a5a5",
   "metadata": {},
   "outputs": [],
   "source": []
  }
 ],
 "metadata": {
  "kernelspec": {
   "display_name": "Python 3 (ipykernel)",
   "language": "python",
   "name": "python3"
  },
  "language_info": {
   "codemirror_mode": {
    "name": "ipython",
    "version": 3
   },
   "file_extension": ".py",
   "mimetype": "text/x-python",
   "name": "python",
   "nbconvert_exporter": "python",
   "pygments_lexer": "ipython3",
   "version": "3.13.3"
  }
 },
 "nbformat": 4,
 "nbformat_minor": 5
}
