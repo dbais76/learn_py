{
 "cells": [
  {
   "cell_type": "code",
   "execution_count": 3,
   "id": "4d0a6595-ce22-4588-a615-95c46c3d27ab",
   "metadata": {},
   "outputs": [],
   "source": [
    "lst = [1,2,3,4]"
   ]
  },
  {
   "cell_type": "code",
   "execution_count": 3,
   "id": "53348052-72b5-40a9-b198-ebed94d01e8e",
   "metadata": {},
   "outputs": [
    {
     "name": "stdout",
     "output_type": "stream",
     "text": [
      "Defaulting to user installation because normal site-packages is not writeable\n",
      "Collecting numpy\n",
      "  Downloading numpy-2.2.6-cp313-cp313-manylinux_2_17_x86_64.manylinux2014_x86_64.whl.metadata (62 kB)\n",
      "Downloading numpy-2.2.6-cp313-cp313-manylinux_2_17_x86_64.manylinux2014_x86_64.whl (16.5 MB)\n",
      "\u001b[2K   \u001b[38;2;114;156;31m━━━━━━━━━━━━━━━━━━━━━━━━━━━━━━━━━━━━━━━━\u001b[0m \u001b[32m16.5/16.5 MB\u001b[0m \u001b[31m19.2 MB/s\u001b[0m eta \u001b[36m0:00:00\u001b[0m[36m0:00:01\u001b[0mm eta \u001b[36m0:00:01\u001b[0m\n",
      "\u001b[?25hInstalling collected packages: numpy\n",
      "Successfully installed numpy-2.2.6\n",
      "Note: you may need to restart the kernel to use updated packages.\n"
     ]
    }
   ],
   "source": [
    "pip install numpy"
   ]
  },
  {
   "cell_type": "code",
   "execution_count": 4,
   "id": "a852da7f-8093-4b91-b46c-10887b48bf71",
   "metadata": {},
   "outputs": [],
   "source": [
    "import numpy as np"
   ]
  },
  {
   "cell_type": "code",
   "execution_count": 5,
   "id": "96e76840-350d-4413-a4e5-477fc9f3b9e7",
   "metadata": {},
   "outputs": [
    {
     "data": {
      "text/plain": [
       "array([1, 2, 3, 4])"
      ]
     },
     "execution_count": 5,
     "metadata": {},
     "output_type": "execute_result"
    }
   ],
   "source": [
    "np.array(lst)"
   ]
  },
  {
   "cell_type": "code",
   "execution_count": 6,
   "id": "133eb497-d2b1-4aad-93c7-1973b35a39cb",
   "metadata": {},
   "outputs": [],
   "source": [
    "arr = np.array(lst)"
   ]
  },
  {
   "cell_type": "code",
   "execution_count": 8,
   "id": "6161a5a9-be2d-44fd-b7f8-eb1edb048fd5",
   "metadata": {},
   "outputs": [
    {
     "data": {
      "text/plain": [
       "array([1, 2, 3, 4])"
      ]
     },
     "execution_count": 8,
     "metadata": {},
     "output_type": "execute_result"
    }
   ],
   "source": [
    "arr   ## returns one dimensioanl array"
   ]
  },
  {
   "cell_type": "code",
   "execution_count": 9,
   "id": "e26aea1c-05b5-4cc3-829b-97996add519e",
   "metadata": {},
   "outputs": [],
   "source": [
    "lst2 = [[1,2,3],[4,5,6],[7,8,9]]"
   ]
  },
  {
   "cell_type": "code",
   "execution_count": 12,
   "id": "de5b5ccd-f870-4416-a032-c347aef8b040",
   "metadata": {},
   "outputs": [
    {
     "data": {
      "text/plain": [
       "array([[1, 2, 3],\n",
       "       [4, 5, 6],\n",
       "       [7, 8, 9]])"
      ]
     },
     "execution_count": 12,
     "metadata": {},
     "output_type": "execute_result"
    }
   ],
   "source": [
    "np.array(lst2) ## this gives us 2 dimensional array, check the [ brackets at the beginning and end."
   ]
  },
  {
   "cell_type": "code",
   "execution_count": null,
   "id": "f8a0c953-8d13-4059-8cbb-961c17c7a441",
   "metadata": {},
   "outputs": [],
   "source": []
  },
  {
   "cell_type": "code",
   "execution_count": 13,
   "id": "17fa2065-ed10-412c-a9b4-9c738ebf2570",
   "metadata": {},
   "outputs": [],
   "source": [
    "## To generate an array, we can use arange function"
   ]
  },
  {
   "cell_type": "code",
   "execution_count": 14,
   "id": "8a9f9537-1767-4161-abc2-0eba3396af0f",
   "metadata": {},
   "outputs": [
    {
     "data": {
      "text/plain": [
       "array([0, 1, 2, 3, 4, 5, 6, 7, 8, 9])"
      ]
     },
     "execution_count": 14,
     "metadata": {},
     "output_type": "execute_result"
    }
   ],
   "source": [
    "np.arange(0,10)  ## this will create an array from 0 till 9 - 10 elements"
   ]
  },
  {
   "cell_type": "code",
   "execution_count": 15,
   "id": "372856ff-e7f5-4523-a827-d3fdee8b72b9",
   "metadata": {},
   "outputs": [],
   "source": [
    "## we can also use step with arange function to define the step size"
   ]
  },
  {
   "cell_type": "code",
   "execution_count": 17,
   "id": "cec4aaf8-a427-4c9c-b8f0-b718d02c6090",
   "metadata": {},
   "outputs": [
    {
     "data": {
      "text/plain": [
       "array([0, 2, 4, 6, 8])"
      ]
     },
     "execution_count": 17,
     "metadata": {},
     "output_type": "execute_result"
    }
   ],
   "source": [
    "np.arange(0,10,2)   ## all even numbers between 0 till 10"
   ]
  },
  {
   "cell_type": "code",
   "execution_count": 18,
   "id": "f1edb09a-b5db-439a-b6b4-d4c8b5097581",
   "metadata": {},
   "outputs": [],
   "source": [
    "## Simlarily we can have arrays of all zeroes and all ones "
   ]
  },
  {
   "cell_type": "code",
   "execution_count": 22,
   "id": "989ac5c1-c6bd-4823-98c4-bda2a9ecde21",
   "metadata": {},
   "outputs": [
    {
     "data": {
      "text/plain": [
       "array([0., 0., 0.])"
      ]
     },
     "execution_count": 22,
     "metadata": {},
     "output_type": "execute_result"
    }
   ],
   "source": [
    "np.zeros(3)   ## one dimensional"
   ]
  },
  {
   "cell_type": "code",
   "execution_count": 21,
   "id": "90c8e909-4d4e-44ed-94b2-3c8738691d55",
   "metadata": {},
   "outputs": [
    {
     "data": {
      "text/plain": [
       "array([[0., 0., 0.],\n",
       "       [0., 0., 0.]])"
      ]
     },
     "execution_count": 21,
     "metadata": {},
     "output_type": "execute_result"
    }
   ],
   "source": [
    "np.zeros((2,3))  ## two dimensional with 2 rows and 3 columns"
   ]
  },
  {
   "cell_type": "code",
   "execution_count": 23,
   "id": "8c4c81fd-e3a0-48ab-ae83-592444c4a1b9",
   "metadata": {},
   "outputs": [
    {
     "data": {
      "text/plain": [
       "array([1., 1., 1., 1.])"
      ]
     },
     "execution_count": 23,
     "metadata": {},
     "output_type": "execute_result"
    }
   ],
   "source": [
    "np.ones(4)"
   ]
  },
  {
   "cell_type": "code",
   "execution_count": 24,
   "id": "2cc89f58-240b-409d-b319-0e5d47794a3b",
   "metadata": {},
   "outputs": [
    {
     "data": {
      "text/plain": [
       "array([[1., 1., 1., 1.],\n",
       "       [1., 1., 1., 1.],\n",
       "       [1., 1., 1., 1.]])"
      ]
     },
     "execution_count": 24,
     "metadata": {},
     "output_type": "execute_result"
    }
   ],
   "source": [
    "np.ones((3,4))"
   ]
  },
  {
   "cell_type": "code",
   "execution_count": null,
   "id": "638d70f3-6adb-4331-8e30-0bb8f29276b5",
   "metadata": {},
   "outputs": [],
   "source": [
    "## we can use linspace to find evenly distributed numbers between a range depending on what is defined as division"
   ]
  },
  {
   "cell_type": "code",
   "execution_count": 26,
   "id": "525feadf-11ab-445e-8e39-2d6b14e80a7e",
   "metadata": {},
   "outputs": [
    {
     "data": {
      "text/plain": [
       "array([0.        , 0.42105263, 0.84210526, 1.26315789, 1.68421053,\n",
       "       2.10526316, 2.52631579, 2.94736842, 3.36842105, 3.78947368,\n",
       "       4.21052632, 4.63157895, 5.05263158, 5.47368421, 5.89473684,\n",
       "       6.31578947, 6.73684211, 7.15789474, 7.57894737, 8.        ])"
      ]
     },
     "execution_count": 26,
     "metadata": {},
     "output_type": "execute_result"
    }
   ],
   "source": [
    "np.linspace(0,8,20)  ## we get 20 evenly distributed numbers between 0 to 8, single dimensional"
   ]
  },
  {
   "cell_type": "code",
   "execution_count": 27,
   "id": "b17599b5-0015-4254-9da6-883fe8020be6",
   "metadata": {},
   "outputs": [],
   "source": [
    "##  IDENTITY MATRIX -- which is a square matrix with all diagonals of 1 and rest everything zeros."
   ]
  },
  {
   "cell_type": "code",
   "execution_count": 28,
   "id": "1da5fc2c-d9b4-4a6d-81a0-387fd3021204",
   "metadata": {},
   "outputs": [
    {
     "data": {
      "text/plain": [
       "array([[1., 0., 0., 0.],\n",
       "       [0., 1., 0., 0.],\n",
       "       [0., 0., 1., 0.],\n",
       "       [0., 0., 0., 1.]])"
      ]
     },
     "execution_count": 28,
     "metadata": {},
     "output_type": "execute_result"
    }
   ],
   "source": [
    "np.eye(4)"
   ]
  },
  {
   "cell_type": "code",
   "execution_count": 29,
   "id": "7ffdedc3-6159-4a73-8b66-26dc90ff0b80",
   "metadata": {},
   "outputs": [],
   "source": [
    "## To create array of random numbers"
   ]
  },
  {
   "cell_type": "code",
   "execution_count": 30,
   "id": "754d707c-a3a3-4112-b91a-c7d5b1b94492",
   "metadata": {},
   "outputs": [
    {
     "data": {
      "text/plain": [
       "array([0.07076494, 0.20622164, 0.56836098, 0.66495317, 0.24913109,\n",
       "       0.15155622])"
      ]
     },
     "execution_count": 30,
     "metadata": {},
     "output_type": "execute_result"
    }
   ],
   "source": [
    "np.random.rand(6)"
   ]
  },
  {
   "cell_type": "code",
   "execution_count": 32,
   "id": "8afddbb0-2fd5-4ac8-a9f3-a29399f0f165",
   "metadata": {},
   "outputs": [
    {
     "data": {
      "text/plain": [
       "array([[0.53702055, 0.55455729, 0.4321891 , 0.02898814],\n",
       "       [0.32896727, 0.2483395 , 0.00205325, 0.5689529 ],\n",
       "       [0.46585647, 0.85526518, 0.31307592, 0.57802184]])"
      ]
     },
     "execution_count": 32,
     "metadata": {},
     "output_type": "execute_result"
    }
   ],
   "source": [
    "np.random.rand(3,4)   ## two dimensional array with random numbers"
   ]
  },
  {
   "cell_type": "code",
   "execution_count": null,
   "id": "29ff5ab2-8a29-42e1-bf93-d22c4db974fa",
   "metadata": {},
   "outputs": [],
   "source": [
    "## For random normal distribution"
   ]
  },
  {
   "cell_type": "code",
   "execution_count": 33,
   "id": "d65d5be0-d924-4cf0-aed2-70e8a372939c",
   "metadata": {},
   "outputs": [
    {
     "data": {
      "text/plain": [
       "array([0.29863172, 0.95543032, 0.85843476])"
      ]
     },
     "execution_count": 33,
     "metadata": {},
     "output_type": "execute_result"
    }
   ],
   "source": [
    "np.random.randn(3)"
   ]
  },
  {
   "cell_type": "code",
   "execution_count": 34,
   "id": "026f4a8b-33e2-428d-a3c0-9fd58cde50c1",
   "metadata": {},
   "outputs": [
    {
     "data": {
      "text/plain": [
       "array([[ 1.61222863,  0.745544  , -1.01963403,  0.18814611],\n",
       "       [ 0.01987625,  0.09684111, -0.80210335,  0.74242419],\n",
       "       [-1.10532274,  1.75404707,  0.14930773, -0.05363845]])"
      ]
     },
     "execution_count": 34,
     "metadata": {},
     "output_type": "execute_result"
    }
   ],
   "source": [
    "np.random.randn(3,4)"
   ]
  },
  {
   "cell_type": "code",
   "execution_count": 35,
   "id": "e8f0c20a-6abb-4ac6-89b7-92cf4409530d",
   "metadata": {},
   "outputs": [],
   "source": [
    "## Random integrers"
   ]
  },
  {
   "cell_type": "code",
   "execution_count": 37,
   "id": "64094ae9-1c05-465c-9413-a77cd136a1df",
   "metadata": {},
   "outputs": [
    {
     "data": {
      "text/plain": [
       "22"
      ]
     },
     "execution_count": 37,
     "metadata": {},
     "output_type": "execute_result"
    }
   ],
   "source": [
    "np.random.randint(0,60)  ## this gives one integer between the range given"
   ]
  },
  {
   "cell_type": "code",
   "execution_count": 39,
   "id": "1772e978-6119-47e3-bd69-dfba4feec994",
   "metadata": {},
   "outputs": [
    {
     "data": {
      "text/plain": [
       "array([39, 32, 33, 42, 22, 30, 50, 25])"
      ]
     },
     "execution_count": 39,
     "metadata": {},
     "output_type": "execute_result"
    }
   ],
   "source": [
    "np.random.randint(0,60,8)   ### number of randon integers as per size defined"
   ]
  },
  {
   "cell_type": "code",
   "execution_count": null,
   "id": "00f24612-8190-4912-8daa-fae7bd3e8418",
   "metadata": {},
   "outputs": [],
   "source": [
    "## reshape array"
   ]
  },
  {
   "cell_type": "code",
   "execution_count": 40,
   "id": "4dc24fe0-8f43-4591-8434-24edd7f15f73",
   "metadata": {},
   "outputs": [],
   "source": [
    "arr1 = np.arange(25)"
   ]
  },
  {
   "cell_type": "code",
   "execution_count": 41,
   "id": "107142d5-bacd-4eb6-a24c-2943fed91d42",
   "metadata": {},
   "outputs": [
    {
     "data": {
      "text/plain": [
       "array([ 0,  1,  2,  3,  4,  5,  6,  7,  8,  9, 10, 11, 12, 13, 14, 15, 16,\n",
       "       17, 18, 19, 20, 21, 22, 23, 24])"
      ]
     },
     "execution_count": 41,
     "metadata": {},
     "output_type": "execute_result"
    }
   ],
   "source": [
    "arr1"
   ]
  },
  {
   "cell_type": "code",
   "execution_count": 43,
   "id": "7ecd1cc5-ec03-4fa6-911b-b1f8e640cda1",
   "metadata": {},
   "outputs": [
    {
     "data": {
      "text/plain": [
       "array([[ 0,  1,  2,  3,  4],\n",
       "       [ 5,  6,  7,  8,  9],\n",
       "       [10, 11, 12, 13, 14],\n",
       "       [15, 16, 17, 18, 19],\n",
       "       [20, 21, 22, 23, 24]])"
      ]
     },
     "execution_count": 43,
     "metadata": {},
     "output_type": "execute_result"
    }
   ],
   "source": [
    "arr1.reshape(5,5)  ## this chnage the array to a 2 dimensional array"
   ]
  },
  {
   "cell_type": "code",
   "execution_count": 45,
   "id": "9c06c0a2-4c0e-4952-9399-3a51e15c6dbb",
   "metadata": {},
   "outputs": [],
   "source": [
    "new_arr = np.random.randint(0,30,8)"
   ]
  },
  {
   "cell_type": "code",
   "execution_count": 46,
   "id": "35b8ffb0-dfad-4af7-b82a-b0f65250fa42",
   "metadata": {},
   "outputs": [
    {
     "data": {
      "text/plain": [
       "array([11, 20, 15, 16, 22, 12, 28, 19])"
      ]
     },
     "execution_count": 46,
     "metadata": {},
     "output_type": "execute_result"
    }
   ],
   "source": [
    "new_arr"
   ]
  },
  {
   "cell_type": "code",
   "execution_count": 49,
   "id": "3d343851-0b3f-40d5-8c6a-12fa02b1c5dd",
   "metadata": {},
   "outputs": [
    {
     "data": {
      "text/plain": [
       "np.int64(28)"
      ]
     },
     "execution_count": 49,
     "metadata": {},
     "output_type": "execute_result"
    }
   ],
   "source": [
    "new_arr.max()"
   ]
  },
  {
   "cell_type": "code",
   "execution_count": 50,
   "id": "bd314087-a17d-4429-8ae6-e5ff159ec19b",
   "metadata": {},
   "outputs": [],
   "source": [
    "## to find the index of the max or min value, use argmax "
   ]
  },
  {
   "cell_type": "code",
   "execution_count": 51,
   "id": "ac9e2e55-cfd0-4224-a001-fcf5fc6a134e",
   "metadata": {},
   "outputs": [
    {
     "data": {
      "text/plain": [
       "np.int64(6)"
      ]
     },
     "execution_count": 51,
     "metadata": {},
     "output_type": "execute_result"
    }
   ],
   "source": [
    "new_arr.argmax()"
   ]
  },
  {
   "cell_type": "code",
   "execution_count": 52,
   "id": "379c59ba-dabf-41ed-815a-6f80e0d31eba",
   "metadata": {},
   "outputs": [
    {
     "data": {
      "text/plain": [
       "np.int64(0)"
      ]
     },
     "execution_count": 52,
     "metadata": {},
     "output_type": "execute_result"
    }
   ],
   "source": [
    "new_arr.argmin()"
   ]
  },
  {
   "cell_type": "code",
   "execution_count": 54,
   "id": "c536f608-63e9-45d2-951a-c8bcd813b86c",
   "metadata": {},
   "outputs": [
    {
     "data": {
      "text/plain": [
       "(8,)"
      ]
     },
     "execution_count": 54,
     "metadata": {},
     "output_type": "execute_result"
    }
   ],
   "source": [
    "new_arr.shape"
   ]
  },
  {
   "cell_type": "code",
   "execution_count": 56,
   "id": "5694a938-65d3-4099-8b06-69893ada9bcb",
   "metadata": {},
   "outputs": [
    {
     "data": {
      "text/plain": [
       "dtype('int64')"
      ]
     },
     "execution_count": 56,
     "metadata": {},
     "output_type": "execute_result"
    }
   ],
   "source": [
    "new_arr.dtype  # show dat type of array"
   ]
  },
  {
   "cell_type": "markdown",
   "id": "6f857a25-782d-4285-b595-ee87a8be7042",
   "metadata": {},
   "source": [
    "## INDEXING AND SELECTION"
   ]
  },
  {
   "cell_type": "code",
   "execution_count": 57,
   "id": "68333664-2ac5-4773-bf4d-000bf071b82d",
   "metadata": {},
   "outputs": [],
   "source": [
    "arr2 = np.random.randint(0,30,10)"
   ]
  },
  {
   "cell_type": "code",
   "execution_count": 58,
   "id": "85466021-ebbd-4011-ac90-c77913f6c2c0",
   "metadata": {},
   "outputs": [
    {
     "data": {
      "text/plain": [
       "array([19,  6,  6, 29, 25,  3,  1, 24,  8,  0])"
      ]
     },
     "execution_count": 58,
     "metadata": {},
     "output_type": "execute_result"
    }
   ],
   "source": [
    "arr2"
   ]
  },
  {
   "cell_type": "code",
   "execution_count": 59,
   "id": "f8583086-8fcb-481a-987e-f58c2fba6bd9",
   "metadata": {},
   "outputs": [
    {
     "data": {
      "text/plain": [
       "np.int64(29)"
      ]
     },
     "execution_count": 59,
     "metadata": {},
     "output_type": "execute_result"
    }
   ],
   "source": [
    "arr2[3]"
   ]
  },
  {
   "cell_type": "code",
   "execution_count": 60,
   "id": "41f5015c-48d6-4b01-a3c6-8311095311f6",
   "metadata": {},
   "outputs": [
    {
     "data": {
      "text/plain": [
       "array([19,  6,  6, 29, 25])"
      ]
     },
     "execution_count": 60,
     "metadata": {},
     "output_type": "execute_result"
    }
   ],
   "source": [
    "arr2[:5]"
   ]
  },
  {
   "cell_type": "code",
   "execution_count": 61,
   "id": "1a70f7f4-24df-4dc3-93cd-a59158d54d2b",
   "metadata": {},
   "outputs": [
    {
     "data": {
      "text/plain": [
       "array([ 1, 24,  8,  0])"
      ]
     },
     "execution_count": 61,
     "metadata": {},
     "output_type": "execute_result"
    }
   ],
   "source": [
    "arr2[6:]"
   ]
  },
  {
   "cell_type": "code",
   "execution_count": 62,
   "id": "9622be22-e56d-4244-8ddc-60fdba55b0ab",
   "metadata": {},
   "outputs": [],
   "source": [
    "## by default numpy does not copy the array when you want to work on a subset of array."
   ]
  },
  {
   "cell_type": "code",
   "execution_count": 63,
   "id": "1171ae25-dfad-47c4-a0e2-ed8ee8918167",
   "metadata": {},
   "outputs": [],
   "source": [
    "subset_of_array = arr2[2:7]"
   ]
  },
  {
   "cell_type": "code",
   "execution_count": 64,
   "id": "73e3b3ea-bf60-4121-a06b-4b1d1ec51c85",
   "metadata": {},
   "outputs": [
    {
     "data": {
      "text/plain": [
       "array([ 6, 29, 25,  3,  1])"
      ]
     },
     "execution_count": 64,
     "metadata": {},
     "output_type": "execute_result"
    }
   ],
   "source": [
    "subset_of_array   ### created using index from arr2"
   ]
  },
  {
   "cell_type": "code",
   "execution_count": 65,
   "id": "3bf849ff-9ce4-4ad1-9814-c24386af270a",
   "metadata": {},
   "outputs": [],
   "source": [
    " subset_of_array[:] = 56"
   ]
  },
  {
   "cell_type": "code",
   "execution_count": 66,
   "id": "93af58f3-6629-44da-b199-6c65d962c019",
   "metadata": {},
   "outputs": [
    {
     "data": {
      "text/plain": [
       "array([56, 56, 56, 56, 56])"
      ]
     },
     "execution_count": 66,
     "metadata": {},
     "output_type": "execute_result"
    }
   ],
   "source": [
    "subset_of_array  ## now you can see all elements of array have changed to 56"
   ]
  },
  {
   "cell_type": "code",
   "execution_count": 68,
   "id": "7189044c-1145-4177-811d-7b434975623e",
   "metadata": {},
   "outputs": [
    {
     "data": {
      "text/plain": [
       "array([19,  6, 56, 56, 56, 56, 56, 24,  8,  0])"
      ]
     },
     "execution_count": 68,
     "metadata": {},
     "output_type": "execute_result"
    }
   ],
   "source": [
    "arr2  ## but even the elements of arr2 are changed to 56 at those index values"
   ]
  },
  {
   "cell_type": "code",
   "execution_count": null,
   "id": "9a2d0726-4a06-43f5-9760-a9b2ac35c34e",
   "metadata": {},
   "outputs": [],
   "source": [
    "## if you dont want the array to be changed like earlier use array copy function"
   ]
  },
  {
   "cell_type": "code",
   "execution_count": 69,
   "id": "66fd6199-12e2-4449-a35a-6bbede9e9b46",
   "metadata": {},
   "outputs": [],
   "source": [
    "arr3 = arr2.copy()"
   ]
  },
  {
   "cell_type": "code",
   "execution_count": 70,
   "id": "5ffc97e0-7ba8-4d82-b198-b374cba5438b",
   "metadata": {},
   "outputs": [
    {
     "data": {
      "text/plain": [
       "array([19,  6, 56, 56, 56, 56, 56, 24,  8,  0])"
      ]
     },
     "execution_count": 70,
     "metadata": {},
     "output_type": "execute_result"
    }
   ],
   "source": [
    "arr3"
   ]
  },
  {
   "cell_type": "code",
   "execution_count": 72,
   "id": "9238dc4e-0a43-44ea-afad-65b3132ec071",
   "metadata": {},
   "outputs": [
    {
     "data": {
      "text/plain": [
       "array([19,  6, 56, 56, 56, 56, 56, 24,  8,  0])"
      ]
     },
     "execution_count": 72,
     "metadata": {},
     "output_type": "execute_result"
    }
   ],
   "source": [
    "arr2"
   ]
  },
  {
   "cell_type": "code",
   "execution_count": 73,
   "id": "1b7352b1-fc4e-4773-b0a5-db44b5ea5e56",
   "metadata": {},
   "outputs": [],
   "source": [
    "## Now both arrays are same, however, if you make change to arr3, arr2 is not effected"
   ]
  },
  {
   "cell_type": "code",
   "execution_count": 74,
   "id": "d06e2c32-d564-4172-b5b0-db9f5d49d247",
   "metadata": {},
   "outputs": [],
   "source": [
    "arr3[4:7] = 100"
   ]
  },
  {
   "cell_type": "code",
   "execution_count": 75,
   "id": "5c2a2bc6-7eb7-400e-9a18-0395a624658e",
   "metadata": {},
   "outputs": [
    {
     "data": {
      "text/plain": [
       "array([ 19,   6,  56,  56, 100, 100, 100,  24,   8,   0])"
      ]
     },
     "execution_count": 75,
     "metadata": {},
     "output_type": "execute_result"
    }
   ],
   "source": [
    "arr3"
   ]
  },
  {
   "cell_type": "code",
   "execution_count": 76,
   "id": "41e0cd1b-3489-4542-8316-669309fcee8e",
   "metadata": {},
   "outputs": [
    {
     "data": {
      "text/plain": [
       "array([19,  6, 56, 56, 56, 56, 56, 24,  8,  0])"
      ]
     },
     "execution_count": 76,
     "metadata": {},
     "output_type": "execute_result"
    }
   ],
   "source": [
    "arr2"
   ]
  },
  {
   "cell_type": "code",
   "execution_count": 83,
   "id": "ae0ffc8d-6db9-4578-8662-d85529585fc0",
   "metadata": {},
   "outputs": [],
   "source": [
    "lst3 = np.array([[23,34,56],[45,12,89],[66,23,9]])"
   ]
  },
  {
   "cell_type": "code",
   "execution_count": 84,
   "id": "8ac5c5ab-8247-466e-b879-00bafff47fe9",
   "metadata": {},
   "outputs": [
    {
     "data": {
      "text/plain": [
       "array([[23, 34, 56],\n",
       "       [45, 12, 89],\n",
       "       [66, 23,  9]])"
      ]
     },
     "execution_count": 84,
     "metadata": {},
     "output_type": "execute_result"
    }
   ],
   "source": [
    "lst3"
   ]
  },
  {
   "cell_type": "code",
   "execution_count": 85,
   "id": "072cae95-154b-4150-b8ee-65e13ed6fb45",
   "metadata": {},
   "outputs": [
    {
     "data": {
      "text/plain": [
       "array([23, 34, 56])"
      ]
     },
     "execution_count": 85,
     "metadata": {},
     "output_type": "execute_result"
    }
   ],
   "source": [
    "lst3[0]  ## get 1st row"
   ]
  },
  {
   "cell_type": "code",
   "execution_count": 87,
   "id": "14257da6-b902-428f-8edd-e5b5fb24479c",
   "metadata": {},
   "outputs": [
    {
     "data": {
      "text/plain": [
       "np.int64(12)"
      ]
     },
     "execution_count": 87,
     "metadata": {},
     "output_type": "execute_result"
    }
   ],
   "source": [
    "lst3[1,1]  ## get second element of 2 row; second row and second column"
   ]
  },
  {
   "cell_type": "code",
   "execution_count": 88,
   "id": "fbd63c6c-cb60-47aa-b47e-3fa1dae3e285",
   "metadata": {},
   "outputs": [
    {
     "data": {
      "text/plain": [
       "np.int64(12)"
      ]
     },
     "execution_count": 88,
     "metadata": {},
     "output_type": "execute_result"
    }
   ],
   "source": [
    "lst3[1,1]"
   ]
  },
  {
   "cell_type": "code",
   "execution_count": 89,
   "id": "ea427985-d0d6-4750-9e73-f68d7f74c2aa",
   "metadata": {},
   "outputs": [
    {
     "data": {
      "text/plain": [
       "array([[23, 34, 56],\n",
       "       [45, 12, 89],\n",
       "       [66, 23,  9]])"
      ]
     },
     "execution_count": 89,
     "metadata": {},
     "output_type": "execute_result"
    }
   ],
   "source": [
    "lst3"
   ]
  },
  {
   "cell_type": "code",
   "execution_count": null,
   "id": "ca87b944-aefe-49ec-ae2d-286ac942adc6",
   "metadata": {},
   "outputs": [],
   "source": [
    "### try to grab 2-D subset"
   ]
  },
  {
   "cell_type": "code",
   "execution_count": 90,
   "id": "16027ada-8d9d-4405-8ce3-39ae95042383",
   "metadata": {},
   "outputs": [
    {
     "data": {
      "text/plain": [
       "array([[34, 56],\n",
       "       [12, 89]])"
      ]
     },
     "execution_count": 90,
     "metadata": {},
     "output_type": "execute_result"
    }
   ],
   "source": [
    "lst3[:2,1:]  ## this will cut row 0 & 1 and then cut column 1 till end"
   ]
  },
  {
   "cell_type": "code",
   "execution_count": 91,
   "id": "a2898f96-f187-4d8f-bd4e-2fe34a0ae0bb",
   "metadata": {},
   "outputs": [],
   "source": [
    " ## how to cut 45,12, 66,23"
   ]
  },
  {
   "cell_type": "code",
   "execution_count": 92,
   "id": "29db7463-e0bf-44c9-88b0-cb13fa0bcbd2",
   "metadata": {},
   "outputs": [
    {
     "data": {
      "text/plain": [
       "array([[45, 12, 89],\n",
       "       [66, 23,  9]])"
      ]
     },
     "execution_count": 92,
     "metadata": {},
     "output_type": "execute_result"
    }
   ],
   "source": [
    "lst3[1:]"
   ]
  },
  {
   "cell_type": "code",
   "execution_count": 94,
   "id": "8c8629c7-0414-4dc0-b002-060ad012703d",
   "metadata": {},
   "outputs": [
    {
     "data": {
      "text/plain": [
       "array([[45, 12],\n",
       "       [66, 23]])"
      ]
     },
     "execution_count": 94,
     "metadata": {},
     "output_type": "execute_result"
    }
   ],
   "source": [
    "lst3[1:,0:2]"
   ]
  },
  {
   "cell_type": "code",
   "execution_count": 95,
   "id": "7b9c7c16-123e-4efd-9320-be6fcfb54466",
   "metadata": {},
   "outputs": [],
   "source": [
    "arr7 = np.random.randint(0,30,30)"
   ]
  },
  {
   "cell_type": "code",
   "execution_count": 96,
   "id": "14de0878-8f4c-44a1-8c2a-8c2456ccce35",
   "metadata": {},
   "outputs": [
    {
     "data": {
      "text/plain": [
       "array([ 7, 22,  8,  2, 12, 16, 28,  5,  6, 28, 14, 17,  0, 13, 13,  9, 26,\n",
       "       23, 27, 19, 24, 25, 25, 11, 21,  7, 11,  3, 24, 24])"
      ]
     },
     "execution_count": 96,
     "metadata": {},
     "output_type": "execute_result"
    }
   ],
   "source": [
    "arr7"
   ]
  },
  {
   "cell_type": "code",
   "execution_count": 99,
   "id": "13938d01-9639-4e97-981e-a0919c1afa98",
   "metadata": {},
   "outputs": [],
   "source": [
    "arr8 = arr7.reshape(5,6)"
   ]
  },
  {
   "cell_type": "code",
   "execution_count": 100,
   "id": "8ada7da0-d806-4b18-af63-860f8cdc2bef",
   "metadata": {},
   "outputs": [
    {
     "data": {
      "text/plain": [
       "array([[ 7, 22,  8,  2, 12, 16],\n",
       "       [28,  5,  6, 28, 14, 17],\n",
       "       [ 0, 13, 13,  9, 26, 23],\n",
       "       [27, 19, 24, 25, 25, 11],\n",
       "       [21,  7, 11,  3, 24, 24]])"
      ]
     },
     "execution_count": 100,
     "metadata": {},
     "output_type": "execute_result"
    }
   ],
   "source": [
    "arr8"
   ]
  },
  {
   "cell_type": "code",
   "execution_count": 101,
   "id": "2ce686d4-6efc-4eab-b1a0-9f91cec75d45",
   "metadata": {},
   "outputs": [],
   "source": [
    "### let us try to find from 6,28.. till 24,25.."
   ]
  },
  {
   "cell_type": "code",
   "execution_count": 104,
   "id": "399a161c-f639-43b5-9c27-34df61d55c61",
   "metadata": {},
   "outputs": [
    {
     "data": {
      "text/plain": [
       "array([[ 6, 28, 14, 17],\n",
       "       [13,  9, 26, 23],\n",
       "       [24, 25, 25, 11]])"
      ]
     },
     "execution_count": 104,
     "metadata": {},
     "output_type": "execute_result"
    }
   ],
   "source": [
    "arr8[1:4,2:]"
   ]
  },
  {
   "cell_type": "code",
   "execution_count": 105,
   "id": "78ef7c42-c8ce-4d84-b07b-64996a70ec25",
   "metadata": {},
   "outputs": [
    {
     "data": {
      "text/plain": [
       "array([[False,  True, False, False, False, False],\n",
       "       [ True, False, False,  True, False, False],\n",
       "       [False, False, False, False,  True,  True],\n",
       "       [ True, False,  True,  True,  True, False],\n",
       "       [ True, False, False, False,  True,  True]])"
      ]
     },
     "execution_count": 105,
     "metadata": {},
     "output_type": "execute_result"
    }
   ],
   "source": [
    "arr8 > 20  ## perform boolean operation"
   ]
  },
  {
   "cell_type": "code",
   "execution_count": 106,
   "id": "5cde331c-3982-46ae-9535-60b0e6c10a40",
   "metadata": {},
   "outputs": [
    {
     "data": {
      "text/plain": [
       "array([22, 28, 28, 26, 23, 27, 24, 25, 25, 21, 24, 24])"
      ]
     },
     "execution_count": 106,
     "metadata": {},
     "output_type": "execute_result"
    }
   ],
   "source": [
    "arr8[arr8 > 20]"
   ]
  },
  {
   "cell_type": "code",
   "execution_count": 107,
   "id": "d3821327-2af1-45a7-aa02-db840c96353f",
   "metadata": {},
   "outputs": [],
   "source": [
    "arr9 = np.arange(0,11)"
   ]
  },
  {
   "cell_type": "code",
   "execution_count": 108,
   "id": "7e9fc67e-c210-41d4-a197-c65c209ec9a4",
   "metadata": {},
   "outputs": [
    {
     "data": {
      "text/plain": [
       "array([ 0,  1,  2,  3,  4,  5,  6,  7,  8,  9, 10])"
      ]
     },
     "execution_count": 108,
     "metadata": {},
     "output_type": "execute_result"
    }
   ],
   "source": [
    "arr9"
   ]
  },
  {
   "cell_type": "code",
   "execution_count": 109,
   "id": "80c614b2-0b4c-41f2-9d5b-9c13cb9ebb4b",
   "metadata": {},
   "outputs": [
    {
     "data": {
      "text/plain": [
       "array([ 0,  2,  4,  6,  8, 10, 12, 14, 16, 18, 20])"
      ]
     },
     "execution_count": 109,
     "metadata": {},
     "output_type": "execute_result"
    }
   ],
   "source": [
    "arr9 + arr9"
   ]
  },
  {
   "cell_type": "code",
   "execution_count": 110,
   "id": "a3db55a5-cdf3-4603-8c5a-da5de8b1cef8",
   "metadata": {},
   "outputs": [
    {
     "data": {
      "text/plain": [
       "array([  0,   1,   4,   9,  16,  25,  36,  49,  64,  81, 100])"
      ]
     },
     "execution_count": 110,
     "metadata": {},
     "output_type": "execute_result"
    }
   ],
   "source": [
    "arr9 * arr9"
   ]
  },
  {
   "cell_type": "code",
   "execution_count": 111,
   "id": "db35cb3d-7782-4915-83b2-1ec22e3708c3",
   "metadata": {},
   "outputs": [],
   "source": [
    "##scalar operation"
   ]
  },
  {
   "cell_type": "code",
   "execution_count": 112,
   "id": "9d8db394-9bdf-4546-8953-531fddf555ad",
   "metadata": {},
   "outputs": [
    {
     "data": {
      "text/plain": [
       "array([  0,  20,  40,  60,  80, 100, 120, 140, 160, 180, 200])"
      ]
     },
     "execution_count": 112,
     "metadata": {},
     "output_type": "execute_result"
    }
   ],
   "source": [
    "arr9 * 20"
   ]
  },
  {
   "cell_type": "code",
   "execution_count": 113,
   "id": "11396677-49aa-4033-a11e-62467a08e133",
   "metadata": {},
   "outputs": [
    {
     "data": {
      "text/plain": [
       "array([  0,   1,   4,   9,  16,  25,  36,  49,  64,  81, 100])"
      ]
     },
     "execution_count": 113,
     "metadata": {},
     "output_type": "execute_result"
    }
   ],
   "source": [
    "arr9 ** 2"
   ]
  },
  {
   "cell_type": "code",
   "execution_count": null,
   "id": "cf8d0145-2559-4c2b-8ca5-f3016913384d",
   "metadata": {},
   "outputs": [],
   "source": []
  },
  {
   "cell_type": "code",
   "execution_count": null,
   "id": "a3fa16f5-f1f9-4f50-8ff0-b5a7a19a716b",
   "metadata": {},
   "outputs": [],
   "source": []
  },
  {
   "cell_type": "code",
   "execution_count": null,
   "id": "d349900c-a7eb-4d02-b45d-868bfee3ca65",
   "metadata": {},
   "outputs": [],
   "source": []
  },
  {
   "cell_type": "code",
   "execution_count": null,
   "id": "6ef6513c-b667-41b9-ae43-06d544d42853",
   "metadata": {},
   "outputs": [],
   "source": []
  },
  {
   "cell_type": "code",
   "execution_count": null,
   "id": "d385bc21-6560-4316-9923-025a2802aac2",
   "metadata": {},
   "outputs": [],
   "source": []
  },
  {
   "cell_type": "code",
   "execution_count": null,
   "id": "009b0c49-aca7-4601-83f7-9cb129eea88a",
   "metadata": {},
   "outputs": [],
   "source": []
  },
  {
   "cell_type": "code",
   "execution_count": null,
   "id": "6c7cf495-ebef-4f8a-8dac-748d461d6894",
   "metadata": {},
   "outputs": [],
   "source": []
  },
  {
   "cell_type": "code",
   "execution_count": null,
   "id": "10420287-ac09-4dfe-9529-cfb0b4a2553c",
   "metadata": {},
   "outputs": [],
   "source": []
  },
  {
   "cell_type": "code",
   "execution_count": null,
   "id": "34787542-2321-484a-a786-a147d7c2d9f1",
   "metadata": {},
   "outputs": [],
   "source": []
  },
  {
   "cell_type": "code",
   "execution_count": null,
   "id": "819df4e6-866b-4b6a-b173-3592c5df7551",
   "metadata": {},
   "outputs": [],
   "source": []
  },
  {
   "cell_type": "code",
   "execution_count": null,
   "id": "376c8882-701d-4dd6-9ce4-29f700c9c2f3",
   "metadata": {},
   "outputs": [],
   "source": []
  },
  {
   "cell_type": "code",
   "execution_count": null,
   "id": "4dd32c66-1972-46a6-a7b9-5d44b82a8129",
   "metadata": {},
   "outputs": [],
   "source": []
  },
  {
   "cell_type": "code",
   "execution_count": null,
   "id": "130c0ad8-3590-4000-9ad4-fbb3e2d33aa2",
   "metadata": {},
   "outputs": [],
   "source": []
  },
  {
   "cell_type": "code",
   "execution_count": null,
   "id": "72020946-63a4-4d6a-a357-fb52d612e220",
   "metadata": {},
   "outputs": [],
   "source": []
  },
  {
   "cell_type": "code",
   "execution_count": null,
   "id": "0e8614ad-9db7-4309-b0b7-30c274703aac",
   "metadata": {},
   "outputs": [],
   "source": []
  },
  {
   "cell_type": "code",
   "execution_count": null,
   "id": "bb480a21-6b78-4995-bcb2-f6f6df05fef3",
   "metadata": {},
   "outputs": [],
   "source": []
  },
  {
   "cell_type": "code",
   "execution_count": null,
   "id": "fa83e2e0-6951-48da-ba7a-633d36a2466a",
   "metadata": {},
   "outputs": [],
   "source": []
  }
 ],
 "metadata": {
  "kernelspec": {
   "display_name": "Python 3 (ipykernel)",
   "language": "python",
   "name": "python3"
  },
  "language_info": {
   "codemirror_mode": {
    "name": "ipython",
    "version": 3
   },
   "file_extension": ".py",
   "mimetype": "text/x-python",
   "name": "python",
   "nbconvert_exporter": "python",
   "pygments_lexer": "ipython3",
   "version": "3.13.3"
  }
 },
 "nbformat": 4,
 "nbformat_minor": 5
}
