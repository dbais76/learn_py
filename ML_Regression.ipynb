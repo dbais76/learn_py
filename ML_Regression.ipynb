{
 "cells": [
  {
   "cell_type": "markdown",
   "id": "64249256-b79e-41b6-824a-b9d89672aaef",
   "metadata": {},
   "source": [
    "## Classification metrics needed\n",
    "- Accuracy - no of correct predictions / total no of predictions\n",
    "  \n",
    "- Precision - Ability of classification model to identify only the relevant data points. no of true positives / no of true positives + no of false positives\n",
    "  \n",
    "- Recall - Abillity of model to find all relevant cases in the data set. no of true positives / no of true positives + no of false negatives\n",
    "  \n",
    "- F1-Score - combination of precision and recall. It is harmonic mean of precision and recall. f1 = 2* (precision * recall / precision + recall)\n",
    "\n",
    "## Regression Metrics\n",
    "\n",
    "Regression is a task when a model attempts to predict a continuous values unlike categorical, which is classification.\n",
    "\n",
    "- Mean absolute error (MAE) - \n",
    "\n",
    "- Mean squared error (MSE) - \n",
    "\n",
    "- Root mean square error (RMSE) -\n",
    "\n",
    "## pip install scikit-learn\n",
    "\n"
   ]
  },
  {
   "cell_type": "code",
   "execution_count": 5,
   "id": "e670717b-ea6d-4821-8720-a9f72f32d183",
   "metadata": {},
   "outputs": [],
   "source": [
    "## from sklearn.<family> import Model"
   ]
  },
  {
   "cell_type": "markdown",
   "id": "b1a5a43f-a401-4ff6-aca9-d30b6a420934",
   "metadata": {},
   "source": [
    "## Linear Regression"
   ]
  },
  {
   "cell_type": "code",
   "execution_count": 6,
   "id": "2c4a2567-8903-4454-a720-3555db0ebfe7",
   "metadata": {},
   "outputs": [],
   "source": [
    "import pandas as pd\n",
    "import numpy as np\n",
    "import matplotlib.pyplot as plt\n",
    "import seaborn as sns\n",
    "%matplotlib inline"
   ]
  },
  {
   "cell_type": "raw",
   "id": "02ca55f3-c856-48c0-a322-7ed4f1381faa",
   "metadata": {},
   "source": [
    "from sklearn.model_selection import train_test_split\n",
    "X_train, X_test, y_train, y_test = train_test_split(X, y, test_size=0.3, random_state=101)\n",
    "from sklearn.linear_model import LinearRegression\n",
    "lm = LinearRegression()\n",
    "lm.fit(X_train, y_train)\n",
    "\n",
    "print(lm.intercept_)\n",
    "lm.coef_\n",
    "coeff_df = pd.DataFrame(lm.coef_,X.columns,columns=['Coefficient'])\n",
    "coeff_df\n",
    "\n",
    "lm.predict(X_test)\n",
    "predictions = lm.predict(X_test)\n",
    "\n",
    "plt.scatter(y_test,predictions)  ## y_test data v/s predictions \n",
    "sns.displot((y_test-predictions),kde=True)  ## We can create a plt of residuals which is y_test - predictions\n",
    "\n",
    "from sklearn import metrics\n",
    "metrics.mean_absolute_error(y_test,predictions)\n",
    "metrics.mean_squared_error(y_test,predictions)\n",
    "np.sqrt(metrics.mean_squared_error(y_test,predictions))"
   ]
  },
  {
   "cell_type": "markdown",
   "id": "4eaec180-3748-43a6-add2-4f895d54edb6",
   "metadata": {},
   "source": [
    "## Logistic Regression"
   ]
  },
  {
   "cell_type": "code",
   "execution_count": 9,
   "id": "97cae669-7764-4df6-b5f6-b97d08f7b84c",
   "metadata": {},
   "outputs": [],
   "source": [
    "## It allows us to solve classification problems where we are trying to predict discrete categories."
   ]
  },
  {
   "cell_type": "raw",
   "id": "276c5668-40c0-42db-852b-bb8b3ddc45f6",
   "metadata": {},
   "source": [
    "from sklearn.model_selection import train_test_split\n",
    "X_train, X_test, y_train, y_test = train_test_split(X, y, test_size=0.3, random_state=101)\n",
    "from sklearn.linear_model import LogisticRegression\n",
    "logModel = LogisticRegression()\n",
    "logModel.fit(X_train,y_train)\n",
    "\n",
    "predictions = logModel.predict(X_test)\n",
    "\n",
    "from sklearn.metrics import classification_report\n",
    "print(classification_report(y_test,predictions))\n",
    "\n",
    "from sklearn.metrics import confusion_matrix\n",
    "confusion_matrix(y_test,predictions)"
   ]
  },
  {
   "cell_type": "markdown",
   "id": "f7226d3f-6821-4228-9451-da56513a60e2",
   "metadata": {},
   "source": [
    "## K Nearest Neighbors"
   ]
  },
  {
   "cell_type": "markdown",
   "id": "df01caae-8217-4059-aa3f-87a6027242cd",
   "metadata": {},
   "source": [
    "Also known as KNN, is a classification algorithm. It calculates the distance between the test data and the input and gives the prediction according. "
   ]
  },
  {
   "cell_type": "code",
   "execution_count": 12,
   "id": "c16e5f43-b103-4b90-ad6c-38e6fb98b722",
   "metadata": {},
   "outputs": [],
   "source": [
    "## categorical features don't work well with KNN."
   ]
  },
  {
   "cell_type": "code",
   "execution_count": null,
   "id": "f58e3572-3313-4793-ac7c-d49fe04f04a1",
   "metadata": {},
   "outputs": [],
   "source": [
    "#"
   ]
  }
 ],
 "metadata": {
  "kernelspec": {
   "display_name": "Python 3 (ipykernel)",
   "language": "python",
   "name": "python3"
  },
  "language_info": {
   "codemirror_mode": {
    "name": "ipython",
    "version": 3
   },
   "file_extension": ".py",
   "mimetype": "text/x-python",
   "name": "python",
   "nbconvert_exporter": "python",
   "pygments_lexer": "ipython3",
   "version": "3.13.3"
  }
 },
 "nbformat": 4,
 "nbformat_minor": 5
}
