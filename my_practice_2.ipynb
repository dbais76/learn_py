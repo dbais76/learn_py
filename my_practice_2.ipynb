{
 "cells": [
  {
   "cell_type": "markdown",
   "id": "8e81bc9b-a1d3-414e-91a2-4bd72ea72662",
   "metadata": {},
   "source": [
    "## Comparison Operators "
   ]
  },
  {
   "cell_type": "code",
   "execution_count": 1,
   "id": "7952f006-50f4-4805-b436-703f2e2efacc",
   "metadata": {},
   "outputs": [],
   "source": [
    "## <, >, <=, >=, !=, ==, and, or   -- Examples followed below showing conditions True or False"
   ]
  },
  {
   "cell_type": "code",
   "execution_count": 2,
   "id": "41193c3d-1754-42d3-9a60-465a2d8a0b84",
   "metadata": {},
   "outputs": [
    {
     "data": {
      "text/plain": [
       "True"
      ]
     },
     "execution_count": 2,
     "metadata": {},
     "output_type": "execute_result"
    }
   ],
   "source": [
    "1 < 2"
   ]
  },
  {
   "cell_type": "code",
   "execution_count": 3,
   "id": "0e23ccfb-ba30-4783-ba71-37071288f36a",
   "metadata": {},
   "outputs": [
    {
     "data": {
      "text/plain": [
       "True"
      ]
     },
     "execution_count": 3,
     "metadata": {},
     "output_type": "execute_result"
    }
   ],
   "source": [
    "2 < 3"
   ]
  },
  {
   "cell_type": "code",
   "execution_count": 4,
   "id": "bd3d0e1e-f9e0-47e4-80a1-373dfb870230",
   "metadata": {},
   "outputs": [
    {
     "data": {
      "text/plain": [
       "False"
      ]
     },
     "execution_count": 4,
     "metadata": {},
     "output_type": "execute_result"
    }
   ],
   "source": [
    "2 > 5"
   ]
  },
  {
   "cell_type": "code",
   "execution_count": 6,
   "id": "c5e880e2-83f8-4aa6-aaec-26e23ef509e4",
   "metadata": {},
   "outputs": [
    {
     "data": {
      "text/plain": [
       "True"
      ]
     },
     "execution_count": 6,
     "metadata": {},
     "output_type": "execute_result"
    }
   ],
   "source": [
    "1 == 1  ## comparision for equality"
   ]
  },
  {
   "cell_type": "code",
   "execution_count": 8,
   "id": "0761c63c-2ea1-4776-91fd-94a53f224ab7",
   "metadata": {},
   "outputs": [
    {
     "ename": "SyntaxError",
     "evalue": "cannot assign to literal here. Maybe you meant '==' instead of '='? (2922329306.py, line 1)",
     "output_type": "error",
     "traceback": [
      "  \u001b[36mCell\u001b[39m\u001b[36m \u001b[39m\u001b[32mIn[8]\u001b[39m\u001b[32m, line 1\u001b[39m\n\u001b[31m    \u001b[39m\u001b[31m1 = 1  ## this will give error <cannot assign to literal here. Maybe you meant '==' instead of '='?>as it assumes you are trying to assign the value\u001b[39m\n    ^\n\u001b[31mSyntaxError\u001b[39m\u001b[31m:\u001b[39m cannot assign to literal here. Maybe you meant '==' instead of '='?\n"
     ]
    }
   ],
   "source": [
    "1 = 1  ## this will give error <cannot assign to literal here. Maybe you meant '==' instead of '='?>as it assumes you are trying to assign the value"
   ]
  },
  {
   "cell_type": "code",
   "execution_count": 10,
   "id": "60c8adc3-ea34-4df3-b7cb-28c2c98cef86",
   "metadata": {},
   "outputs": [
    {
     "data": {
      "text/plain": [
       "False"
      ]
     },
     "execution_count": 10,
     "metadata": {},
     "output_type": "execute_result"
    }
   ],
   "source": [
    "'Hi' == 'hi'   ## can also be done on strings"
   ]
  },
  {
   "cell_type": "code",
   "execution_count": 11,
   "id": "7b8f1736-0d07-483d-9597-747616b401df",
   "metadata": {},
   "outputs": [
    {
     "data": {
      "text/plain": [
       "True"
      ]
     },
     "execution_count": 11,
     "metadata": {},
     "output_type": "execute_result"
    }
   ],
   "source": [
    "1 < 2 and 2 < 3"
   ]
  },
  {
   "cell_type": "code",
   "execution_count": 12,
   "id": "bb57a796-b27c-4b42-a403-d2607c274477",
   "metadata": {},
   "outputs": [
    {
     "data": {
      "text/plain": [
       "False"
      ]
     },
     "execution_count": 12,
     "metadata": {},
     "output_type": "execute_result"
    }
   ],
   "source": [
    "1 < 2 and 2 > 5  ## as not both the conditions are true ; 2 is not greater than 5"
   ]
  },
  {
   "cell_type": "code",
   "execution_count": 13,
   "id": "d3f96764-60ef-4d50-8aac-7889f641e584",
   "metadata": {},
   "outputs": [
    {
     "data": {
      "text/plain": [
       "False"
      ]
     },
     "execution_count": 13,
     "metadata": {},
     "output_type": "execute_result"
    }
   ],
   "source": [
    "(1 < 2) and (2 > 5) ## this is a better way to write, putting them in brackets"
   ]
  },
  {
   "cell_type": "code",
   "execution_count": 14,
   "id": "dd249329-d49c-4261-87fc-d5a632bbe1b9",
   "metadata": {},
   "outputs": [
    {
     "data": {
      "text/plain": [
       "True"
      ]
     },
     "execution_count": 14,
     "metadata": {},
     "output_type": "execute_result"
    }
   ],
   "source": [
    "(1 < 2) or (2 > 5) ## this will return true as one of the condition is true"
   ]
  },
  {
   "cell_type": "code",
   "execution_count": 15,
   "id": "567cd96f-d50e-4ee1-999d-b124afa096c0",
   "metadata": {},
   "outputs": [],
   "source": [
    "## if Else statement"
   ]
  },
  {
   "cell_type": "code",
   "execution_count": 16,
   "id": "11ec56d9-bbfa-439d-af8f-a3e0c3910926",
   "metadata": {},
   "outputs": [
    {
     "name": "stdout",
     "output_type": "stream",
     "text": [
      "All good!!\n"
     ]
    }
   ],
   "source": [
    "if 1 < 2:\n",
    "    print('All good!!')"
   ]
  },
  {
   "cell_type": "code",
   "execution_count": 21,
   "id": "718ea228-f987-469a-8743-32bac7e5e12e",
   "metadata": {},
   "outputs": [],
   "source": [
    "## we can check for condition true and false with else statement"
   ]
  },
  {
   "cell_type": "code",
   "execution_count": 22,
   "id": "d11865b9-51c1-42d8-afd3-b82df61fcc09",
   "metadata": {},
   "outputs": [
    {
     "name": "stdout",
     "output_type": "stream",
     "text": [
      "not so good!\n"
     ]
    }
   ],
   "source": [
    "if 6 < 5:\n",
    "    print('All good!!')\n",
    "else:\n",
    "    print('not so good!')"
   ]
  },
  {
   "cell_type": "code",
   "execution_count": 23,
   "id": "d49d4b9f-778f-4441-b048-c5e2a592c8ee",
   "metadata": {},
   "outputs": [],
   "source": [
    "## we can have multiple conditions with elif "
   ]
  },
  {
   "cell_type": "code",
   "execution_count": 27,
   "id": "77138b03-d65c-4d65-ab43-00ad2c60cb4d",
   "metadata": {},
   "outputs": [
    {
     "name": "stdout",
     "output_type": "stream",
     "text": [
      "seems like 8\n"
     ]
    }
   ],
   "source": [
    "if 6 < 5:\n",
    "    print('All good!!')\n",
    "elif 8 == 8:\n",
    "    print('seems like 8')\n",
    "else:\n",
    "    print('not so good!')  ## change 8 == 8 to 8 == 9 and run again and check the result"
   ]
  },
  {
   "cell_type": "markdown",
   "id": "d56009f2-7e49-4d71-8beb-64d6323abcc8",
   "metadata": {},
   "source": [
    "## For loop"
   ]
  },
  {
   "cell_type": "code",
   "execution_count": 32,
   "id": "7d9b6a5b-21ac-4245-8aee-d1a5322e416d",
   "metadata": {},
   "outputs": [],
   "source": [
    "place_list = ['Delhi','Jaipur','Hyderabad','Vizag']  ## iterate through the name of cities from given list"
   ]
  },
  {
   "cell_type": "code",
   "execution_count": 31,
   "id": "854b3188-22c8-4d46-8b20-2accf57a2eb7",
   "metadata": {},
   "outputs": [
    {
     "name": "stdout",
     "output_type": "stream",
     "text": [
      "Delhi\n",
      "Jaipur\n",
      "Hyderabad\n",
      "Vizag\n"
     ]
    }
   ],
   "source": [
    "for city in place_list:    ## city is a variable which will hold which element is in that index\n",
    "    print(city)"
   ]
  },
  {
   "cell_type": "markdown",
   "id": "7acba6c9-59aa-4129-85ee-92662113933c",
   "metadata": {},
   "source": [
    "## While loop -- run the loop till the condition gets true"
   ]
  },
  {
   "cell_type": "code",
   "execution_count": 35,
   "id": "72827d09-bcd7-4b64-b767-4db467209cdf",
   "metadata": {},
   "outputs": [
    {
     "name": "stdout",
     "output_type": "stream",
     "text": [
      "The city name is Delhi\n",
      "The city name is Jaipur\n",
      "The city name is Hyderabad\n",
      "The city name is Vizag\n"
     ]
    }
   ],
   "source": [
    "i = 0\n",
    "while i < 4:\n",
    "    print('The city name is {}'.format(place_list[i]))\n",
    "    i = i+1   ## the loop iterates through the city name from list till i doesn't equals 4. Our list has only 4 elements 0,1,2,3."
   ]
  },
  {
   "cell_type": "markdown",
   "id": "b2a3a032-86e1-47ad-9dbe-0fb0450e00e5",
   "metadata": {},
   "source": [
    "## range Function ## when we have to create a long list of elements with start and end"
   ]
  },
  {
   "cell_type": "code",
   "execution_count": 36,
   "id": "05338241-c274-4ad7-abcb-5adc01de915e",
   "metadata": {},
   "outputs": [
    {
     "data": {
      "text/plain": [
       "range(0, 5)"
      ]
     },
     "execution_count": 36,
     "metadata": {},
     "output_type": "execute_result"
    }
   ],
   "source": [
    "range(0,5)"
   ]
  },
  {
   "cell_type": "code",
   "execution_count": 38,
   "id": "60f16ac8-c4ee-47d8-83d7-8c65e87110ad",
   "metadata": {},
   "outputs": [
    {
     "name": "stdout",
     "output_type": "stream",
     "text": [
      "0\n",
      "1\n",
      "2\n",
      "3\n",
      "4\n"
     ]
    }
   ],
   "source": [
    "for x in range(0,5):\n",
    "    print(x)"
   ]
  },
  {
   "cell_type": "code",
   "execution_count": 43,
   "id": "41e82a56-06a2-43dc-a372-2f7af160e576",
   "metadata": {},
   "outputs": [
    {
     "data": {
      "text/plain": [
       "[0, 1, 2, 3, 4, 5, 6, 7, 8, 9]"
      ]
     },
     "execution_count": 43,
     "metadata": {},
     "output_type": "execute_result"
    }
   ],
   "source": [
    "list(range(0,10))   ## we can use range function to create a list of elements also."
   ]
  },
  {
   "cell_type": "markdown",
   "id": "b631252d-33da-489c-b2da-8f57d50f6273",
   "metadata": {},
   "source": [
    "## List comprehension "
   ]
  },
  {
   "cell_type": "code",
   "execution_count": 47,
   "id": "7cb25cbe-c31a-4149-bf33-9a485bfeecf0",
   "metadata": {},
   "outputs": [],
   "source": [
    "x = [1,2,3,4]\n",
    "out = []\n"
   ]
  },
  {
   "cell_type": "code",
   "execution_count": 49,
   "id": "9d9ed4dd-ed2a-4259-8cee-5aa5444197bf",
   "metadata": {},
   "outputs": [],
   "source": [
    "for num in x:\n",
    "    out.append(num**2)"
   ]
  },
  {
   "cell_type": "code",
   "execution_count": 51,
   "id": "3926138d-4114-4220-9124-4fc55afcb511",
   "metadata": {},
   "outputs": [
    {
     "name": "stdout",
     "output_type": "stream",
     "text": [
      "[1, 4, 9, 16]\n"
     ]
    }
   ],
   "source": [
    "print(out) ## as you can see that now all numbers are square of x list"
   ]
  },
  {
   "cell_type": "code",
   "execution_count": 52,
   "id": "b0b174e8-f669-4875-b1d4-0e6b90459b83",
   "metadata": {},
   "outputs": [],
   "source": [
    "## now instead of writing thig big, we could use list comprehension as shown below"
   ]
  },
  {
   "cell_type": "code",
   "execution_count": 60,
   "id": "89fea89f-3a89-42c3-8a69-37fc1d9d4184",
   "metadata": {},
   "outputs": [
    {
     "data": {
      "text/plain": [
       "[1, 4, 9, 16]"
      ]
     },
     "execution_count": 60,
     "metadata": {},
     "output_type": "execute_result"
    }
   ],
   "source": [
    "[num**2 for num in x]    ### what you want to append comes first followed by the condition. You can read it like: \n",
    "                        ####what to append for the given condition."
   ]
  },
  {
   "cell_type": "code",
   "execution_count": 56,
   "id": "a59af27f-aa37-4b9e-8903-6d30989f10fb",
   "metadata": {},
   "outputs": [
    {
     "name": "stdout",
     "output_type": "stream",
     "text": [
      "[1, 4, 9, 16]\n"
     ]
    }
   ],
   "source": [
    "out = [num**2 for num in x]\n",
    "print(out)"
   ]
  },
  {
   "cell_type": "markdown",
   "id": "4f532f4b-fb29-436c-9f41-62bad5afd9cb",
   "metadata": {},
   "source": [
    "## Functions --  reuse a piece of code instead of writing it again and again"
   ]
  },
  {
   "cell_type": "code",
   "execution_count": 61,
   "id": "c2c8846e-2adf-426b-a5cf-7b2f6302cf2c",
   "metadata": {},
   "outputs": [],
   "source": [
    "##functions are defined using def"
   ]
  },
  {
   "cell_type": "code",
   "execution_count": 62,
   "id": "85d16eb2-c74b-4395-913a-9e79ab8deef6",
   "metadata": {},
   "outputs": [],
   "source": [
    "def first_func(name):      ## we provide parameter to the function, in this case name.\n",
    "    print('The name entered is '+ name)"
   ]
  },
  {
   "cell_type": "code",
   "execution_count": 68,
   "id": "a31c40de-adb1-4b30-85a2-2459d5c9e0f0",
   "metadata": {},
   "outputs": [
    {
     "name": "stdout",
     "output_type": "stream",
     "text": [
      "The name entered is Thanos\n"
     ]
    }
   ],
   "source": [
    "first_func('Thanos')  ### calling the function and providing a value to the parameter"
   ]
  },
  {
   "cell_type": "code",
   "execution_count": 65,
   "id": "3fdaa1c9-0433-4fff-ad9c-cb8d02e51ec8",
   "metadata": {},
   "outputs": [],
   "source": [
    "def second_func(name='Avengers'):      ## we provide parameter to the function, in this case name.\n",
    "    print('The name entered is '+ name)"
   ]
  },
  {
   "cell_type": "code",
   "execution_count": 67,
   "id": "83626a91-96e9-425d-b56d-14cabe75c100",
   "metadata": {},
   "outputs": [
    {
     "name": "stdout",
     "output_type": "stream",
     "text": [
      "The name entered is Avengers\n"
     ]
    }
   ],
   "source": [
    "second_func()  ## since we didn't provide any value, it used the default value defined with the function <Avengers>."
   ]
  },
  {
   "cell_type": "code",
   "execution_count": 70,
   "id": "50c7658a-0b5e-40a2-bb50-9921ef2967b1",
   "metadata": {},
   "outputs": [
    {
     "data": {
      "text/plain": [
       "<function __main__.second_func(name='Avengers')>"
      ]
     },
     "execution_count": 70,
     "metadata": {},
     "output_type": "execute_result"
    }
   ],
   "source": [
    "second_func  ## without brackets python tells us what kind of object it is."
   ]
  },
  {
   "cell_type": "code",
   "execution_count": 71,
   "id": "d6169e4d-f615-4b6c-9049-78be9be7cb3a",
   "metadata": {},
   "outputs": [],
   "source": [
    "## we can use return function to save the output to some variable so that we can use it later."
   ]
  },
  {
   "cell_type": "code",
   "execution_count": 84,
   "id": "3c765054-c4a7-4ac5-b3ad-cc5d9828f54d",
   "metadata": {},
   "outputs": [],
   "source": [
    "def mult_by_eight(num):\n",
    "    return num*8"
   ]
  },
  {
   "cell_type": "code",
   "execution_count": 86,
   "id": "b6aed6c4-6ce9-4d55-92cc-b422ca1333d8",
   "metadata": {},
   "outputs": [],
   "source": [
    "outt = mult_by_eight(9)"
   ]
  },
  {
   "cell_type": "code",
   "execution_count": 87,
   "id": "dd4f5de2-e6c6-408d-a11e-c51a9b2fe047",
   "metadata": {},
   "outputs": [
    {
     "data": {
      "text/plain": [
       "72"
      ]
     },
     "execution_count": 87,
     "metadata": {},
     "output_type": "execute_result"
    }
   ],
   "source": [
    "outt"
   ]
  },
  {
   "cell_type": "code",
   "execution_count": 92,
   "id": "40efb24b-6da0-4537-8ea8-0bffd61f7eb4",
   "metadata": {},
   "outputs": [],
   "source": [
    "## Provide documentation string to a function. It is useful when you want to see more info about the function."
   ]
  },
  {
   "cell_type": "code",
   "execution_count": 93,
   "id": "eda2bd2a-25bc-4eab-9991-fb357577143f",
   "metadata": {},
   "outputs": [],
   "source": [
    "## type the function and at the end press Shift + tab, it will show the information."
   ]
  },
  {
   "cell_type": "code",
   "execution_count": 88,
   "id": "a66f425d-19fe-4fa4-b8f5-157b74de20dd",
   "metadata": {},
   "outputs": [],
   "source": [
    "def mult_by_eight(num):\n",
    "    \"\"\"\n",
    "    THIS FUNCTION RETURNS THE INPUT MULTIPLIED BY 8\n",
    "    ANYTHING IT RETURNS YOU CAN SAVE IT TO A VARIABLE\n",
    "    THIS IS DOCUMENTATION STRING \n",
    "    \"\"\"\n",
    "    return num*8"
   ]
  },
  {
   "cell_type": "code",
   "execution_count": 89,
   "id": "f1f23860-8f00-4541-ba2f-4e9faa2f6efb",
   "metadata": {},
   "outputs": [],
   "source": [
    "out1 = mult_by_eight(12)"
   ]
  },
  {
   "cell_type": "code",
   "execution_count": 90,
   "id": "9341c7da-a7f4-45de-b41d-b384e73caaa3",
   "metadata": {},
   "outputs": [
    {
     "data": {
      "text/plain": [
       "96"
      ]
     },
     "execution_count": 90,
     "metadata": {},
     "output_type": "execute_result"
    }
   ],
   "source": [
    "out1"
   ]
  },
  {
   "cell_type": "code",
   "execution_count": 95,
   "id": "aee6f299-a68e-4ad2-937e-a9e72a398449",
   "metadata": {},
   "outputs": [
    {
     "data": {
      "text/plain": [
       "<function __main__.mult_by_eight(num)>"
      ]
     },
     "execution_count": 95,
     "metadata": {},
     "output_type": "execute_result"
    }
   ],
   "source": [
    "mult_by_eight   ## press shift+tab when the cursor is at the end of function, i.e. at letter t of eight"
   ]
  },
  {
   "cell_type": "markdown",
   "id": "5c7aef56-397a-4b05-96bd-b8026c066936",
   "metadata": {},
   "source": [
    "## MAP  FUNCTION"
   ]
  },
  {
   "cell_type": "code",
   "execution_count": 1,
   "id": "84b6738e-a5c7-4879-ab21-2b811b95a53c",
   "metadata": {},
   "outputs": [],
   "source": [
    "my_seq = [1,2,3,4,5]"
   ]
  },
  {
   "cell_type": "code",
   "execution_count": 2,
   "id": "7e23869d-1e2b-44f3-91c6-89a5d57d6e1d",
   "metadata": {},
   "outputs": [],
   "source": [
    "def mult_five(num):\n",
    "    return num*5"
   ]
  },
  {
   "cell_type": "code",
   "execution_count": 3,
   "id": "cbc6cf43-7a92-4df8-893e-2319e5624337",
   "metadata": {},
   "outputs": [
    {
     "data": {
      "text/plain": [
       "50"
      ]
     },
     "execution_count": 3,
     "metadata": {},
     "output_type": "execute_result"
    }
   ],
   "source": [
    "mult_five(10)"
   ]
  },
  {
   "cell_type": "code",
   "execution_count": 4,
   "id": "b01ebe4f-bb41-4c4b-bd68-24debfbb06c8",
   "metadata": {},
   "outputs": [],
   "source": [
    "## now what we want to iterate the function mult_five with all elements on my_seq"
   ]
  },
  {
   "cell_type": "code",
   "execution_count": 30,
   "id": "52717d37-b2c3-4145-a3f5-f354991496e2",
   "metadata": {},
   "outputs": [],
   "source": [
    "## You might have to go and write a for loop OR use MAP function"
   ]
  },
  {
   "cell_type": "code",
   "execution_count": 7,
   "id": "d98094e5-db13-4403-aac9-119d45066ed3",
   "metadata": {},
   "outputs": [
    {
     "data": {
      "text/plain": [
       "<map at 0x7f3ff4783190>"
      ]
     },
     "execution_count": 7,
     "metadata": {},
     "output_type": "execute_result"
    }
   ],
   "source": [
    "map(mult_five,my_seq)   ## this shows that map is now available at the address. To see the values, pass the map to a list"
   ]
  },
  {
   "cell_type": "code",
   "execution_count": 9,
   "id": "be270e46-212e-4ef2-8692-03c2407ff3d2",
   "metadata": {},
   "outputs": [
    {
     "data": {
      "text/plain": [
       "[5, 10, 15, 20, 25]"
      ]
     },
     "execution_count": 9,
     "metadata": {},
     "output_type": "execute_result"
    }
   ],
   "source": [
    "list(map(mult_five,my_seq))  ## this shows that each element of list my_seq is multiplied by 5"
   ]
  },
  {
   "cell_type": "code",
   "execution_count": 10,
   "id": "8d30f3ab-d854-48a3-953e-0d8522a10e11",
   "metadata": {},
   "outputs": [],
   "source": [
    "## Map makes it easy to iterate over a list"
   ]
  },
  {
   "cell_type": "markdown",
   "id": "74c5c9a1-ce46-4ae0-98f9-e926500fe72b",
   "metadata": {},
   "source": [
    "## LAMBDA function --"
   ]
  },
  {
   "cell_type": "code",
   "execution_count": 28,
   "id": "8271bb82-98dd-4ff9-a90a-c94f33d7c99d",
   "metadata": {},
   "outputs": [],
   "source": [
    "##  it is similar to function def, just we remove all that we don't need.\n",
    "## They make performing tasks easier and remove need to define functions explicitly"
   ]
  },
  {
   "cell_type": "code",
   "execution_count": 23,
   "id": "13b767ba-72fb-451d-ab60-1521369f4eac",
   "metadata": {},
   "outputs": [],
   "source": [
    "## def mult_five(num):return num*5 --> remove all except what you want to pass and what you want to return out. \n",
    "## lambda num:num*5"
   ]
  },
  {
   "cell_type": "code",
   "execution_count": 24,
   "id": "fabe8610-ee9a-44e7-a1e3-9db50580aa7e",
   "metadata": {},
   "outputs": [
    {
     "data": {
      "text/plain": [
       "<function __main__.<lambda>(num)>"
      ]
     },
     "execution_count": 24,
     "metadata": {},
     "output_type": "execute_result"
    }
   ],
   "source": [
    "lambda num:num*5  ## this tell that it is a Lambda expression"
   ]
  },
  {
   "cell_type": "code",
   "execution_count": 25,
   "id": "fff6281c-d6af-4060-b0d5-b4b45b58b737",
   "metadata": {},
   "outputs": [],
   "source": [
    "t = lambda num:num*5"
   ]
  },
  {
   "cell_type": "code",
   "execution_count": 26,
   "id": "864e31ca-5d3c-4d25-b3c2-5546567fb29f",
   "metadata": {},
   "outputs": [
    {
     "data": {
      "text/plain": [
       "40"
      ]
     },
     "execution_count": 26,
     "metadata": {},
     "output_type": "execute_result"
    }
   ],
   "source": [
    "t(8)  ## you can see the result is 8 multiply by 5 = 40"
   ]
  },
  {
   "cell_type": "code",
   "execution_count": 29,
   "id": "cfeb79fe-d763-41d8-91b1-b3251e4be708",
   "metadata": {},
   "outputs": [],
   "source": [
    "my_seq = [1,2,3,4,5]"
   ]
  },
  {
   "cell_type": "code",
   "execution_count": 27,
   "id": "dbeea409-f7ac-4c17-998a-a5408510012a",
   "metadata": {},
   "outputs": [
    {
     "data": {
      "text/plain": [
       "[5, 10, 15, 20, 25]"
      ]
     },
     "execution_count": 27,
     "metadata": {},
     "output_type": "execute_result"
    }
   ],
   "source": [
    "list(map(lambda num:num*5,my_seq))   ## the earlier map function can be converted to lambda like this"
   ]
  },
  {
   "cell_type": "markdown",
   "id": "9155650d-6bac-4b98-8204-b5c9a31d9e30",
   "metadata": {},
   "source": [
    "## Filter function"
   ]
  },
  {
   "cell_type": "code",
   "execution_count": 31,
   "id": "f94330c5-9e99-4f7e-af37-b42b56754455",
   "metadata": {},
   "outputs": [],
   "source": [
    "## filter elements out of a sequence, returns elements which meet the condition"
   ]
  },
  {
   "cell_type": "code",
   "execution_count": 32,
   "id": "54d2e01b-fa65-461f-95d1-75a702ccb8d7",
   "metadata": {},
   "outputs": [],
   "source": [
    "new_seq = [12,45,56,78,120,87]"
   ]
  },
  {
   "cell_type": "code",
   "execution_count": 36,
   "id": "65d9c4ec-208f-401f-875b-d15e0b894adc",
   "metadata": {},
   "outputs": [
    {
     "data": {
      "text/plain": [
       "<filter at 0x7f3ff485ab30>"
      ]
     },
     "execution_count": 36,
     "metadata": {},
     "output_type": "execute_result"
    }
   ],
   "source": [
    "filter(lambda num: num%2==0,new_seq)   ## filter is available at the address."
   ]
  },
  {
   "cell_type": "code",
   "execution_count": 35,
   "id": "3cd2cfa7-a35e-49f5-8045-1794564199b1",
   "metadata": {},
   "outputs": [
    {
     "data": {
      "text/plain": [
       "[12, 56, 78, 120]"
      ]
     },
     "execution_count": 35,
     "metadata": {},
     "output_type": "execute_result"
    }
   ],
   "source": [
    "list(filter(lambda num: num%2==0,new_seq))  ## this now returns only the even numbers from the given sequence."
   ]
  },
  {
   "cell_type": "code",
   "execution_count": null,
   "id": "312ea3b1-d173-40bc-bf9b-135bb035ab7f",
   "metadata": {},
   "outputs": [],
   "source": []
  },
  {
   "cell_type": "markdown",
   "id": "67290afe-0d02-4a26-8014-cc982e42548d",
   "metadata": {},
   "source": [
    "## Some useful methods"
   ]
  },
  {
   "cell_type": "code",
   "execution_count": 52,
   "id": "050db90b-ac04-4794-870f-b844ce243ae1",
   "metadata": {},
   "outputs": [],
   "source": [
    "## STRINGS"
   ]
  },
  {
   "cell_type": "code",
   "execution_count": 45,
   "id": "2809f720-7135-4858-93f3-b337b9a8d5b8",
   "metadata": {},
   "outputs": [],
   "source": [
    "st = 'Python is tough but fun to learn # py_learn'"
   ]
  },
  {
   "cell_type": "code",
   "execution_count": 46,
   "id": "ab11cf63-f5d5-4b59-9cb9-ccb67b1bb5d7",
   "metadata": {},
   "outputs": [
    {
     "data": {
      "text/plain": [
       "'python is tough but fun to learn # py_learn'"
      ]
     },
     "execution_count": 46,
     "metadata": {},
     "output_type": "execute_result"
    }
   ],
   "source": [
    "st.lower()    ### type st.and press tab.. it opens all the possible methods for strings"
   ]
  },
  {
   "cell_type": "code",
   "execution_count": 47,
   "id": "c37dd5e4-64d8-4c9d-8516-88d15ac95caf",
   "metadata": {},
   "outputs": [
    {
     "data": {
      "text/plain": [
       "'PYTHON IS TOUGH BUT FUN TO LEARN # PY_LEARN'"
      ]
     },
     "execution_count": 47,
     "metadata": {},
     "output_type": "execute_result"
    }
   ],
   "source": [
    "st.upper()"
   ]
  },
  {
   "cell_type": "code",
   "execution_count": 48,
   "id": "815b5842-c98d-4db3-938f-a0bf1dd791cc",
   "metadata": {},
   "outputs": [
    {
     "data": {
      "text/plain": [
       "['Python', 'is', 'tough', 'but', 'fun', 'to', 'learn', '#', 'py_learn']"
      ]
     },
     "execution_count": 48,
     "metadata": {},
     "output_type": "execute_result"
    }
   ],
   "source": [
    "st.split()  ## splits the sentence from spaces, useful for text analysis"
   ]
  },
  {
   "cell_type": "code",
   "execution_count": 50,
   "id": "61acf66b-3fbd-45e2-ab0b-d56dc447dcf5",
   "metadata": {},
   "outputs": [
    {
     "data": {
      "text/plain": [
       "['Python is tough but fun to learn ', ' py_learn']"
      ]
     },
     "execution_count": 50,
     "metadata": {},
     "output_type": "execute_result"
    }
   ],
   "source": [
    "st.split('#')  ## as you can see that now it has split only from character you asked from"
   ]
  },
  {
   "cell_type": "code",
   "execution_count": 51,
   "id": "3d7f810f-b735-4e6a-9ba1-425393da710a",
   "metadata": {},
   "outputs": [
    {
     "data": {
      "text/plain": [
       "' py_learn'"
      ]
     },
     "execution_count": 51,
     "metadata": {},
     "output_type": "execute_result"
    }
   ],
   "source": [
    "st.split('#')[1]  ## we get the hashtag value.. very good to perform such actions on tweets etc"
   ]
  },
  {
   "cell_type": "code",
   "execution_count": 53,
   "id": "e0eb5e96-7333-4ea1-b48a-233173d3ee06",
   "metadata": {},
   "outputs": [],
   "source": [
    "## DICTIONARY"
   ]
  },
  {
   "cell_type": "code",
   "execution_count": 55,
   "id": "bb1e60b1-a086-4ee4-9aca-cee469af9d8e",
   "metadata": {},
   "outputs": [],
   "source": [
    "dict = {'city1': 'Jaipur', 'city2': 'Delhi', 'city3': 'Noida'}"
   ]
  },
  {
   "cell_type": "code",
   "execution_count": 56,
   "id": "58dd1e52-4222-496b-b184-840e43d4977d",
   "metadata": {},
   "outputs": [
    {
     "data": {
      "text/plain": [
       "{'city1': 'Jaipur', 'city2': 'Delhi', 'city3': 'Noida'}"
      ]
     },
     "execution_count": 56,
     "metadata": {},
     "output_type": "execute_result"
    }
   ],
   "source": [
    "dict"
   ]
  },
  {
   "cell_type": "code",
   "execution_count": 57,
   "id": "18c1ed7d-97a9-42c0-bdc5-b41e9c463df5",
   "metadata": {},
   "outputs": [
    {
     "data": {
      "text/plain": [
       "<function dict.keys()>"
      ]
     },
     "execution_count": 57,
     "metadata": {},
     "output_type": "execute_result"
    }
   ],
   "source": [
    "dict.keys"
   ]
  },
  {
   "cell_type": "code",
   "execution_count": 59,
   "id": "730cbd97-6211-4b8a-9f6a-9a2643e7d79f",
   "metadata": {},
   "outputs": [
    {
     "data": {
      "text/plain": [
       "dict_keys(['city1', 'city2', 'city3'])"
      ]
     },
     "execution_count": 59,
     "metadata": {},
     "output_type": "execute_result"
    }
   ],
   "source": [
    "dict.keys()  ## shows the keys of the dictionary"
   ]
  },
  {
   "cell_type": "code",
   "execution_count": 60,
   "id": "65ef8114-685a-4a35-bb47-e9a979e70aec",
   "metadata": {},
   "outputs": [
    {
     "data": {
      "text/plain": [
       "dict_items([('city1', 'Jaipur'), ('city2', 'Delhi'), ('city3', 'Noida')])"
      ]
     },
     "execution_count": 60,
     "metadata": {},
     "output_type": "execute_result"
    }
   ],
   "source": [
    "dict.items()"
   ]
  },
  {
   "cell_type": "code",
   "execution_count": 61,
   "id": "7f50d4e9-806c-4904-83eb-42e3b911e710",
   "metadata": {},
   "outputs": [
    {
     "data": {
      "text/plain": [
       "dict_values(['Jaipur', 'Delhi', 'Noida'])"
      ]
     },
     "execution_count": 61,
     "metadata": {},
     "output_type": "execute_result"
    }
   ],
   "source": [
    "dict.values()"
   ]
  },
  {
   "cell_type": "code",
   "execution_count": 62,
   "id": "80a636e0-efc4-4e3d-a8d8-208913252e7e",
   "metadata": {},
   "outputs": [],
   "source": [
    "## LIST"
   ]
  },
  {
   "cell_type": "code",
   "execution_count": 68,
   "id": "8103814d-94a6-45cf-8c48-48609b2df085",
   "metadata": {},
   "outputs": [],
   "source": [
    "new_seq1 = [12,45,56,78,120,87]"
   ]
  },
  {
   "cell_type": "code",
   "execution_count": 69,
   "id": "2352ac1c-f6ec-4325-826d-d97e5d78201a",
   "metadata": {},
   "outputs": [
    {
     "data": {
      "text/plain": [
       "87"
      ]
     },
     "execution_count": 69,
     "metadata": {},
     "output_type": "execute_result"
    }
   ],
   "source": [
    "new_seq1.pop()  ## this pops the last element from the list and this is permanent"
   ]
  },
  {
   "cell_type": "code",
   "execution_count": 70,
   "id": "95fc1755-4ee5-4487-a06c-46b71d507dde",
   "metadata": {},
   "outputs": [
    {
     "data": {
      "text/plain": [
       "[12, 45, 56, 78, 120]"
      ]
     },
     "execution_count": 70,
     "metadata": {},
     "output_type": "execute_result"
    }
   ],
   "source": [
    "new_seq1"
   ]
  },
  {
   "cell_type": "code",
   "execution_count": 71,
   "id": "315fa1b0-3490-411e-950e-958c33913b46",
   "metadata": {},
   "outputs": [],
   "source": [
    "## we can even pop specific element by specifying the index number"
   ]
  },
  {
   "cell_type": "code",
   "execution_count": 72,
   "id": "c2e57ea5-c149-4116-9021-3926c86b890e",
   "metadata": {},
   "outputs": [],
   "source": [
    "list = new_seq1.pop(2)"
   ]
  },
  {
   "cell_type": "code",
   "execution_count": 73,
   "id": "e0aa88ca-8272-4287-86fe-b147bc08e67b",
   "metadata": {},
   "outputs": [
    {
     "data": {
      "text/plain": [
       "[12, 45, 78, 120]"
      ]
     },
     "execution_count": 73,
     "metadata": {},
     "output_type": "execute_result"
    }
   ],
   "source": [
    "new_seq1"
   ]
  },
  {
   "cell_type": "code",
   "execution_count": 76,
   "id": "120d1c12-f862-4b20-9894-0ab921d1df87",
   "metadata": {},
   "outputs": [
    {
     "data": {
      "text/plain": [
       "56"
      ]
     },
     "execution_count": 76,
     "metadata": {},
     "output_type": "execute_result"
    }
   ],
   "source": [
    "list ## you can now see that list new_seq1 has only 4 elements and element at index 2 which is 56 is now in list"
   ]
  },
  {
   "cell_type": "code",
   "execution_count": 77,
   "id": "db8423cc-a6bc-4c96-8a70-78b65b98aef6",
   "metadata": {},
   "outputs": [],
   "source": [
    "new_seq1.append(99)"
   ]
  },
  {
   "cell_type": "code",
   "execution_count": 78,
   "id": "e7651411-1c68-4e87-ba8d-88986d83bbaf",
   "metadata": {},
   "outputs": [
    {
     "data": {
      "text/plain": [
       "[12, 45, 78, 120, 99]"
      ]
     },
     "execution_count": 78,
     "metadata": {},
     "output_type": "execute_result"
    }
   ],
   "source": [
    "new_seq1"
   ]
  },
  {
   "cell_type": "code",
   "execution_count": 79,
   "id": "686664a5-08a9-4a53-b8cc-e86ec42cb64c",
   "metadata": {},
   "outputs": [],
   "source": [
    "## tuple unpacking"
   ]
  },
  {
   "cell_type": "code",
   "execution_count": 80,
   "id": "0049a8d9-df3a-455e-9c36-ee979623970f",
   "metadata": {},
   "outputs": [],
   "source": [
    "x = [(1,2),(3,4),(5,6),(7,8)] ## list of tuples"
   ]
  },
  {
   "cell_type": "code",
   "execution_count": 81,
   "id": "fc52266c-17d0-4267-9bc2-99386156cc98",
   "metadata": {},
   "outputs": [
    {
     "data": {
      "text/plain": [
       "[(1, 2), (3, 4), (5, 6), (7, 8)]"
      ]
     },
     "execution_count": 81,
     "metadata": {},
     "output_type": "execute_result"
    }
   ],
   "source": [
    "x"
   ]
  },
  {
   "cell_type": "code",
   "execution_count": 82,
   "id": "5cdf2bea-262e-45e3-ad7b-059d134988cf",
   "metadata": {},
   "outputs": [
    {
     "name": "stdout",
     "output_type": "stream",
     "text": [
      "(1, 2)\n",
      "(3, 4)\n",
      "(5, 6)\n",
      "(7, 8)\n"
     ]
    }
   ],
   "source": [
    "  for a in x:\n",
    "      print(a)"
   ]
  },
  {
   "cell_type": "code",
   "execution_count": 83,
   "id": "43cdaec9-84b2-4a6f-9d22-53f76b765216",
   "metadata": {},
   "outputs": [],
   "source": [
    "## to find particular object from tuple"
   ]
  },
  {
   "cell_type": "code",
   "execution_count": 87,
   "id": "47f42ecd-66fd-499b-8048-ee2eeb8e8a9c",
   "metadata": {},
   "outputs": [
    {
     "name": "stdout",
     "output_type": "stream",
     "text": [
      "2\n",
      "4\n",
      "6\n",
      "8\n"
     ]
    }
   ],
   "source": [
    "  for a,b in x:\n",
    "      print(b)"
   ]
  },
  {
   "cell_type": "code",
   "execution_count": null,
   "id": "0e269f59-e701-46aa-baa1-bbd4526908b2",
   "metadata": {},
   "outputs": [],
   "source": []
  }
 ],
 "metadata": {
  "kernelspec": {
   "display_name": "Python 3 (ipykernel)",
   "language": "python",
   "name": "python3"
  },
  "language_info": {
   "codemirror_mode": {
    "name": "ipython",
    "version": 3
   },
   "file_extension": ".py",
   "mimetype": "text/x-python",
   "name": "python",
   "nbconvert_exporter": "python",
   "pygments_lexer": "ipython3",
   "version": "3.13.3"
  }
 },
 "nbformat": 4,
 "nbformat_minor": 5
}
