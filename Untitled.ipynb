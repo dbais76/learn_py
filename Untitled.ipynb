{
 "cells": [
  {
   "cell_type": "markdown",
   "id": "64249256-b79e-41b6-824a-b9d89672aaef",
   "metadata": {},
   "source": [
    "## Classification metrics needed\n",
    "- Accuracy - no of correct predictions / total no of predictions\n",
    "  \n",
    "- Precision - Ability of classification model to identify only the relevant data points. no of true positives / no of true positives + no of false positives\n",
    "  \n",
    "- Recall - Abillity of model to find all relevant cases in the data set. no of true positives / no of true positives + no of false negatives\n",
    "  \n",
    "- F1-Score - combination of precision and recall. It is harmonic mean of precision and recall. f1 = 2* (precision * recall / precision + recall)\n",
    "\n",
    "## Regression Metrics\n",
    "\n",
    "Regression is a task when a model attempts to predict a continuous values unlike categorical, which is classification.\n",
    "\n",
    "- Mean absolute error (MAE) - \n",
    "\n",
    "- Mean squared error (MSE) - \n",
    "\n",
    "- Root mean square error (RMSE) -\n",
    "\n",
    "## pip install scikit-learn\n",
    "\n"
   ]
  },
  {
   "cell_type": "code",
   "execution_count": 5,
   "id": "e670717b-ea6d-4821-8720-a9f72f32d183",
   "metadata": {},
   "outputs": [],
   "source": [
    "## from sklearn.<family> import Model"
   ]
  },
  {
   "cell_type": "code",
   "execution_count": null,
   "id": "6f522672-66d6-4c22-9d29-1c1a49529733",
   "metadata": {},
   "outputs": [],
   "source": []
  }
 ],
 "metadata": {
  "kernelspec": {
   "display_name": "Python 3 (ipykernel)",
   "language": "python",
   "name": "python3"
  },
  "language_info": {
   "codemirror_mode": {
    "name": "ipython",
    "version": 3
   },
   "file_extension": ".py",
   "mimetype": "text/x-python",
   "name": "python",
   "nbconvert_exporter": "python",
   "pygments_lexer": "ipython3",
   "version": "3.13.3"
  }
 },
 "nbformat": 4,
 "nbformat_minor": 5
}
